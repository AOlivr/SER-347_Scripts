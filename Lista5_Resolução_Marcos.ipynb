{
  "cells": [
    {
      "cell_type": "markdown",
      "metadata": {
        "id": "view-in-github",
        "colab_type": "text"
      },
      "source": [
        "<a href=\"https://colab.research.google.com/github/AOlivr/SER-347_Scripts/blob/main/Lista5_Resolu%C3%A7%C3%A3o_Marcos.ipynb\" target=\"_parent\"><img src=\"https://colab.research.google.com/assets/colab-badge.svg\" alt=\"Open In Colab\"/></a>"
      ]
    },
    {
      "cell_type": "markdown",
      "metadata": {
        "id": "g6MzLGbQWZW1"
      },
      "source": [
        "## Lista 5 - Intr. à Prog. com Dados Geoespaciais (SER-347/CAP-419) 2022 "
      ]
    },
    {
      "cell_type": "markdown",
      "metadata": {
        "id": "WimAzEAHWZW_"
      },
      "source": [
        "**Exercício  01.** A  USGS  define  uma  [convenção  para  nomenclatura  dos  arquivos](https://lpdaac.usgs.gov/data/get-started-data/collection-overview/missions/modis-overview/)  com  produtos  do  sensor  MODIS.  Por  exemplo,  o  arquivo  com  nome MOD09A1.A2006001.h08v05.005.2006012234657.hdf pode ser interpretado da seguinte forma:\n",
        "\n",
        "MOD09A1 - Product Short Name  \n",
        "MOD: Terra Satellite  \n",
        "A2006001 - Julian Date of Acquisition (A-YYYYDDD)  \n",
        "h08v05 - Tile Identifier (horizontalXXverticalYY)  \n",
        "005 - Collection Version  \n",
        "2006012234567 - Julian Date of Production (YYYYDDDHHMMSS)  \n",
        "hdf - Data Format (HDF-EOS)\n",
        "\n",
        "Faça um programa em Python que leia o nome de um arquivo, como o do exemplo, eescreva na saída padrão o seguinte resultado:\n",
        "\n",
        "    Satellite...............: Terra  \n",
        "    Product.................: MOD09A1  \n",
        "    Year of Acquisition.....: 2006  \n",
        "    Julian Day..............: 001  \n",
        "    Horizontal Tile.........: 08  \n",
        "    Vertical Tile...........: 05  \n",
        "    Collection..............: 005  \n",
        "    Year of Production......: 2006  \n",
        "    Julian Day of Production: 012  \n",
        "    Production Hour.........: 23  \n",
        "    Production Minute.......: 46  \n",
        "    Production Second.......: 57  \n",
        "    Data Format.............: hdf\n",
        "    \n",
        "Lista de produtos [MODIS/Terra e MODIS/Aqua](https://lpdaac.usgs.gov/product_search/?collections=Terra+MODIS&collections=Aqua+MODIS&view=list&page=1)"
      ]
    },
    {
      "cell_type": "code",
      "execution_count": null,
      "metadata": {
        "id": "tfJVPb5QWZXC",
        "outputId": "b4c3b17b-6cf8-4a89-e81c-4aa774c4282a"
      },
      "outputs": [
        {
          "name": "stdout",
          "output_type": "stream",
          "text": [
            "Digite o nome do produto MODIS:MOD09A1.A2006001.h08v05.005.2006012234657.hdf\n",
            "Satellite...............: Terra\n",
            "Product.................: MOD09A1\n",
            "Year of Acquisition.....: 2006\n",
            "Julian Day..............: 001\n",
            "Horizontal Tile.........: 08\n",
            "Vertical Tile...........: 05\n",
            "Collection..............: 005\n",
            "Year of Production......: 2006\n",
            "Julian Day of Production: 012\n",
            "Production Hour.........: 23\n",
            "Production Minute.......: 46\n",
            "Production Second.......: 57\n",
            "Data Format.............: hdf\n"
          ]
        }
      ],
      "source": [
        "nameproduct = input('Digite o nome do produto MODIS:').split('.')\n",
        "sensor = 'Terra' if nameproduct[0][0:3] == 'MOD' else 'Aqua'\n",
        "print('Satellite...............: '+ sensor \\\n",
        "      + '\\nProduct.................: '+nameproduct[0] \\\n",
        "      + '\\nYear of Acquisition.....: '+nameproduct[1][1:5] \\\n",
        "      + '\\nJulian Day..............: '+nameproduct[1][5:8] \\\n",
        "      + '\\nHorizontal Tile.........: '+nameproduct[2][1:3] \\\n",
        "      + '\\nVertical Tile...........: '+nameproduct[2][4:6] \\\n",
        "      + '\\nCollection..............: '+nameproduct[3] \\\n",
        "      + '\\nYear of Production......: '+nameproduct[4][0:4] \\\n",
        "      + '\\nJulian Day of Production: '+nameproduct[4][4:7] \\\n",
        "      + '\\nProduction Hour.........: '+nameproduct[4][7:9] \\\n",
        "      + '\\nProduction Minute.......: '+nameproduct[4][9:11] \\\n",
        "      + '\\nProduction Second.......: '+nameproduct[4][11:13] \\\n",
        "      + '\\nData Format.............: '+nameproduct[5])"
      ]
    },
    {
      "cell_type": "markdown",
      "metadata": {
        "id": "1uE3DnpMWZXG"
      },
      "source": [
        "**Exercício 02.** Para criar uma senha na internet, geralmente são aplicados critérios de força da senha.  Neste exercício, uma senha forte possui caracteres maiúsculos e minúsculos, e tem pelo menos 8 caracteres. Do contrário, é fraca. Crie um programa que leia uma senha e retorne se ela é forte ou fraca."
      ]
    },
    {
      "cell_type": "code",
      "execution_count": null,
      "metadata": {
        "id": "J4CVYhcmWZXI",
        "outputId": "e40c71c1-e347-47bc-c4f4-d6278d22fc69"
      },
      "outputs": [
        {
          "name": "stdout",
          "output_type": "stream",
          "text": [
            "Type password: ········\n",
            "FORTE - senha possui características necessárias!\n"
          ]
        }
      ],
      "source": [
        "import getpass\n",
        "\n",
        "def n_lower_chars(string):\n",
        "    return sum(1 for c in string if c.islower())\n",
        "\n",
        "def n_upper_chars(string):\n",
        "    return sum(1 for c in string if c.isupper())\n",
        "\n",
        "pprompt = getpass.getpass('Type password: ')\n",
        "\n",
        "if len(pprompt) < 8:\n",
        "    print('Fraca - senha possui menos de 8 caracteres!')\n",
        "elif n_lower_chars(pprompt) < 1 or n_upper_chars(pprompt) < 1:\n",
        "    print('Fraca - senha não possui caracteres minúsculos e maiúsculos!')\n",
        "else:\n",
        "    print('FORTE - senha possui características necessárias!')"
      ]
    },
    {
      "cell_type": "markdown",
      "metadata": {
        "id": "Vocf8VxjWZXK"
      },
      "source": [
        "**Exercício 03.** Tomando como base os operadores disponíveis em Python documentation - [String Methods](https://docs.python.org/3/library/stdtypes.html#string-methods), apresente as operações para converter os elementos da coluna\n",
        "string de entrada nos resultados apresentados na coluna string de saída.\n",
        "\n",
        "\n",
        "| string de entrada | string de saída\n",
        "| : -----------------: | : ---------------\n",
        "| \"Gilberto\" | \"++Gilberto++\"\n",
        "| \"sensoriamento remoto\" | \"Sensoriamento remoto\"\n",
        "| \"sensoriamento remoto\" | \"Sensoriamento Remoto\"\n",
        "| \"GilberTo\" | \"gilberto\"\n",
        "| \"Gilberto\" | \"Gilberto\\*\\*\"\n",
        "| \"Gilberto\" | \"\\*\\*Gilberto\"\n",
        "| \"Gilberto\" | \"Gilberto\"\n",
        "| \"ser347@dpi.inpe.br\" | (\"ser347\", \"@\", \"dpi.inpe.br\")\n",
        "| \"CBERS_4_PAN5M_20180308\" | [’CBERS’, ’4’, ’PAN5M’, ’20180308’]\n",
        "| \"Gilberto@@@\" | \"Gilberto\"\n",
        "| \"@@Gilberto@@@\" | \"Gilberto\""
      ]
    },
    {
      "cell_type": "code",
      "execution_count": null,
      "metadata": {
        "id": "evNv1JlxWZXL",
        "outputId": "2c353b1b-6dca-4c5a-97b3-a587dd8a0ec5"
      },
      "outputs": [
        {
          "name": "stdout",
          "output_type": "stream",
          "text": [
            "Gilberto using ''.join(('++','yourstring','++')) -->  ++Gilberto++\n",
            "sensoriamento remoto using .capitalize() -->  Sensoriamento remoto\n",
            "sensoriamento remoto using .title() -->  Sensoriamento Remoto\n",
            "GilberTo using .lower() -->  gilberto\n",
            "Gilberto using ''.join(('yourstring','**')) -->  Gilberto**\n",
            "Gilberto using ''.join(('**','yourstring')) -->  **Gilberto\n",
            "Gilberto using .capitalize() -->  Gilberto\n",
            "ser347@dpi.inpe.br using .partition('@') -->  ('ser347','@','dpi.inpe.br')\n",
            "CBERS_4_PAN5M_20180308 using .split('_') -->  ['CBERS', '4', 'PAN5M', '20180308']\n",
            "Gilberto@@@ using .strip('@') -->  Gilberto\n",
            "@@Gilberto@@@ using .strip('@') -->  Gilberto\n"
          ]
        }
      ],
      "source": [
        "mystring='Gilberto'\n",
        "mystring2='sensoriamento remoto'\n",
        "mystring3='GilberTo'\n",
        "mystring4='ser347@dpi.inpe.br'\n",
        "mystring5='CBERS_4_PAN5M_20180308'\n",
        "mystring6='Gilberto@@@'\n",
        "mystring7='@@Gilberto@@@'\n",
        "\n",
        "print(mystring + \" using ''.join(('++','yourstring','++')) -->  \" + ''.join(('++',mystring,'++')))\n",
        "print(mystring2 + \" using .capitalize() -->  \" + mystring2.capitalize())\n",
        "print(mystring2 + \" using .title() -->  \" + mystring2.title())\n",
        "print(mystring3 + \" using .lower() -->  \" + mystring3.lower())\n",
        "print(mystring + \" using ''.join(('yourstring','**')) -->  \" + ''.join((mystring,'**')))\n",
        "print(mystring + \" using ''.join(('**','yourstring')) -->  \" + ''.join(('**',mystring)))\n",
        "print(mystring + \" using .capitalize() -->  \" + mystring.capitalize())\n",
        "print(mystring4 + \" using .partition('@') -->  ('%s','%s','%s')\" % mystring4.partition('@'))\n",
        "print(mystring5 + \" using .split('_') --> \",mystring5.split('_'))\n",
        "print(mystring6 + \" using .strip('@') -->  \"+mystring6.strip('@'))\n",
        "print(mystring7 + \" using .strip('@') -->  \"+mystring7.strip('@'))"
      ]
    },
    {
      "cell_type": "code",
      "execution_count": null,
      "metadata": {
        "id": "cjI8fKJXWZXN"
      },
      "outputs": [],
      "source": [
        "str.title?"
      ]
    },
    {
      "cell_type": "code",
      "execution_count": null,
      "metadata": {
        "id": "NQ_Mk7lrWZXO",
        "outputId": "a6b4d786-0607-43aa-9ec2-6d676a01da8d"
      },
      "outputs": [
        {
          "data": {
            "text/plain": [
              "'Gilberto'"
            ]
          },
          "execution_count": 51,
          "metadata": {},
          "output_type": "execute_result"
        }
      ],
      "source": [
        "'@@Gi@lberto@@@'.replace('@','')\n",
        "\"@@Gilberto@@@\".rstrip('@').lstrip('@')"
      ]
    },
    {
      "cell_type": "markdown",
      "metadata": {
        "id": "zC58tpZPWZXQ"
      },
      "source": [
        "**Exercício 04.** Faça um programa que verifique se uma string é um palíndromo. Exemplos de palíndromos: \"ana\", \"arara\", \"anilina\", \"asa\", \"mussum\", \"osso\", \"reviver\", \"salas\",\"ralar\", \"madam\", \"rotor\", \"level\", \"civic\".  Nesse caso, acentos e símbolos devem ser desconsiderados, e não há diferença entre maiúsculas e minúsculas."
      ]
    },
    {
      "cell_type": "code",
      "execution_count": null,
      "metadata": {
        "id": "uG5fXojoWZXR",
        "outputId": "35e7facd-f5d6-4e48-b3fc-67a379ce6aff"
      },
      "outputs": [
        {
          "name": "stdout",
          "output_type": "stream",
          "text": [
            "mussum\n",
            "A palavra -> mussum é um palíndromo!\n"
          ]
        }
      ],
      "source": [
        "import unicodedata\n",
        "\n",
        "#https://stackoverflow.com/questions/517923/what-is-the-best-way-to-remove-accents-in-a-python-unicode-string\n",
        "# About unicode combos for normalize - ftp://ftp.unicode.org/Public/9.0.0/ucd/NormalizationTest.txt\n",
        "def strip_accents(string, accents=('COMBINING CEDILLA', 'COMBINING ACUTE ACCENT', 'COMBINING GRAVE ACCENT', 'COMBINING TILDE', 'COMBINING CIRCUMFLEX ACCENT','COMBINING DIAERESIS')):\n",
        "    accents = set(map(unicodedata.lookup, accents))\n",
        "    chars = [c for c in unicodedata.normalize('NFD', string) if c not in accents]\n",
        "    return unicodedata.normalize('NFC', ''.join(chars))\n",
        "\n",
        "\n",
        "unaccented_string = strip_accents(input('Digite um possível Palíndromo:').lower())\n",
        "\n",
        "if unaccented_string == unaccented_string[::-1]:\n",
        "    print(\"A palavra -> %s é um palíndromo!\" % unaccented_string) \n",
        "else:\n",
        "    print(\"A palavra -> %s não é um palíndromo!\" % unaccented_string) "
      ]
    },
    {
      "cell_type": "code",
      "execution_count": null,
      "metadata": {
        "id": "_5CECPahWZXS",
        "outputId": "2271abfe-4d5c-417d-96c1-d131ad6098ae"
      },
      "outputs": [
        {
          "data": {
            "text/plain": [
              "'à élocip avapaçac subinô'"
            ]
          },
          "execution_count": 56,
          "metadata": {},
          "output_type": "execute_result"
        }
      ],
      "source": [
        "string = 'ônibus caçapava picolé à'\n",
        "string[::-1]\n",
        "#[c for c in unicodedata.normalize('NFD', string)]\n",
        "\n",
        "# #COMBINING CEDILLA\n",
        "# accents=('CEDILLA', 'COMBINING ACUTE ACCENT', 'COMBINING GRAVE ACCENT', 'COMBINING TILDE', 'COMBINING CIRCUMFLEX ACCENT','COMBINING DIAERESIS')\n",
        "# accents = set(map(unicodedata.lookup, accents))\n",
        "# chars = [c for c in unicodedata.normalize('NFD', string) if c not in accents]\n",
        "# chars\n",
        "# unicodedata.normalize('NFC', ''.join(chars))\n",
        "# ''.join(chars)\n",
        "# #teste = unicodedata.lookup('COMBINING CEDILLA')\n",
        "# #teste"
      ]
    },
    {
      "cell_type": "code",
      "execution_count": null,
      "metadata": {
        "id": "xy82H41XWZXT",
        "outputId": "b1401257-c2d8-44a3-aaf7-1253f3b13302"
      },
      "outputs": [
        {
          "name": "stdout",
          "output_type": "stream",
          "text": [
            "Help on built-in function normalize in module unicodedata:\n",
            "\n",
            "normalize(form, unistr, /)\n",
            "    Return the normal form 'form' for the Unicode string unistr.\n",
            "    \n",
            "    Valid values for form are 'NFC', 'NFKC', 'NFD', and 'NFKD'.\n",
            "\n"
          ]
        }
      ],
      "source": [
        "help(unicodedata.normalize)\n",
        "#https://docs.python.org/3/library/unicodedata.html#unicodedata.normalize"
      ]
    },
    {
      "cell_type": "markdown",
      "metadata": {
        "id": "ubF_4J8mWZXU"
      },
      "source": [
        "**Exercício 05.** Faca um programa que verifique se uma frase é um palíndromo. Nesse caso, os espaços, acentos e símbolos devem ser desconsiderados, e não há diferença entre maiúsculas e minúsculas. Exemplos de frases palíndromos: \"Never odd or even\", \"ROMATIBI SUBITO MOTIBUS IBIT AMOR\", \"Socorram-me, subi no ônibus em Marrocos!\"."
      ]
    },
    {
      "cell_type": "code",
      "execution_count": null,
      "metadata": {
        "id": "lurzLNcWWZXV",
        "outputId": "4b61a3ea-9e64-4c91-f24a-672248cdfaf1"
      },
      "outputs": [
        {
          "name": "stdout",
          "output_type": "stream",
          "text": [
            "Digite frase Palíndromo:Socorram-me, subi no ônibus em Marrocos\n",
            "A frase -> socorram-me, subi no onibus em marrocos é um palíndromo!\n"
          ]
        }
      ],
      "source": [
        "import unicodedata\n",
        "\n",
        "#https://stackoverflow.com/questions/517923/what-is-the-best-way-to-remove-accents-in-a-python-unicode-string\n",
        "# About unicode combos for normalize - ftp://ftp.unicode.org/Public/9.0.0/ucd/NormalizationTest.txt\n",
        "def strip_accents(string, accents=('COMBINING ACUTE ACCENT', 'COMBINING GRAVE ACCENT', 'COMBINING TILDE', 'COMBINING CIRCUMFLEX ACCENT','COMBINING DIAERESIS')):\n",
        "    accents = set(map(unicodedata.lookup, accents))\n",
        "    chars = [c for c in unicodedata.normalize('NFD', string) if c not in accents]\n",
        "    return unicodedata.normalize('NFC', ''.join(chars))\n",
        "\n",
        "\n",
        "unaccented_string = strip_accents(input('Digite frase Palíndromo:').lower())\n",
        "striped_string = ''.join(e for e in unaccented_string if e.isalnum())\n",
        "\n",
        "if striped_string == striped_string[::-1]:\n",
        "    print(\"A frase -> %s é um palíndromo!\" % unaccented_string) \n",
        "else:\n",
        "    print(\"A frase -> %s não é um palíndromo!\" % unaccented_string) "
      ]
    },
    {
      "cell_type": "code",
      "execution_count": null,
      "metadata": {
        "id": "5sGwGvZhWZXW",
        "outputId": "05fe58f3-2a47-4bbb-a8fc-eaf9aa349940"
      },
      "outputs": [
        {
          "data": {
            "text/plain": [
              "'socorrammesubinoonibusemmarrocos'"
            ]
          },
          "execution_count": 58,
          "metadata": {},
          "output_type": "execute_result"
        }
      ],
      "source": [
        "striped_string"
      ]
    }
  ],
  "metadata": {
    "kernelspec": {
      "display_name": "Python 3",
      "language": "python",
      "name": "python3"
    },
    "language_info": {
      "codemirror_mode": {
        "name": "ipython",
        "version": 3
      },
      "file_extension": ".py",
      "mimetype": "text/x-python",
      "name": "python",
      "nbconvert_exporter": "python",
      "pygments_lexer": "ipython3",
      "version": "3.7.7"
    },
    "colab": {
      "name": "Lista5_2022.ipynb",
      "provenance": [],
      "include_colab_link": true
    }
  },
  "nbformat": 4,
  "nbformat_minor": 0
}