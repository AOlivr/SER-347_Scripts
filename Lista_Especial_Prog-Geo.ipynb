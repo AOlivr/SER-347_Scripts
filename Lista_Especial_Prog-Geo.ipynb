{
  "nbformat": 4,
  "nbformat_minor": 0,
  "metadata": {
    "colab": {
      "name": "Lista_Especial_Prog-geo",
      "provenance": [],
      "authorship_tag": "ABX9TyPvWMBO6q+GW046Rlfwy/hg",
      "include_colab_link": true
    },
    "kernelspec": {
      "name": "python3",
      "display_name": "Python 3"
    },
    "language_info": {
      "name": "python"
    }
  },
  "cells": [
    {
      "cell_type": "markdown",
      "metadata": {
        "id": "view-in-github",
        "colab_type": "text"
      },
      "source": [
        "<a href=\"https://colab.research.google.com/github/AOlivr/SER-347_Scripts/blob/main/Lista_Especial_Prog-Geo.ipynb\" target=\"_parent\"><img src=\"https://colab.research.google.com/assets/colab-badge.svg\" alt=\"Open In Colab\"/></a>"
      ]
    },
    {
      "cell_type": "code",
      "execution_count": null,
      "metadata": {
        "id": "qXFfOknhh0Ls"
      },
      "outputs": [],
      "source": [
        "#Exercício 01. \n",
        "\n",
        "VP = float(input('Informe o total de verdadeiros positivos (VP): '))\n",
        "FP = float(input('Informe o total de falsos positivos (FP): '))\n",
        "FN = float(input('Informe o total de falsos negativos (VP): '))\n",
        "VN = float(input('Informe o total de verdadeiros negativos (VP): '))\n",
        "N = (VP+ FP + FN + VN)\n",
        "\n",
        "ag = ((VP + VN) / N)\n",
        "precision = (VP / (VP + FP))\n",
        "recall = (VP / (VP + FN))\n",
        "f1 = ((2 * precision * recall) / (precision + recall))\n",
        "\n",
        "print (f'VP: {VP} / FP: {FP} / FN: {FN} / VN: {VN} / N: {N}')\n",
        "print (f'AG: {ag}')\n",
        "print (f'Precision: {precision}')\n",
        "print (f'Recall: {recall}')\n",
        "print (f'F1-Score: {f1}')"
      ]
    },
    {
      "cell_type": "code",
      "source": [
        "#Exercicio 02.\n",
        "\n",
        "listavazia = list()\n",
        "contador = 'y'\n",
        "\n",
        "while (contador == 'y'):\n",
        "  strings = str(input('Informe a sequência de valores: '))\n",
        "  for i in strings:      #ADICIONA CADA VALOR DA STRING\n",
        "    listavazia.append(i) #EM UM ELEMENTO DIFERENTE DA LISTA\n",
        "\n",
        "  listaint = [int(i) for i in listavazia] #CONVERTE UMA LISTA DE STRINGS EM UMA LISTA DE INTEIROS\n",
        "  print (listavazia)\n",
        "  print (listaint)\n",
        "  soma = sum(listaint)\n",
        "  print (soma)\n",
        "\n",
        "  contador = input('Digite y para continuar nessa rotina: ')\n",
        "  if (contador != 'y'):\n",
        "    break\n",
        "  else:\n",
        "    continue"
      ],
      "metadata": {
        "id": "IM_8S6SXkRIc"
      },
      "execution_count": null,
      "outputs": []
    },
    {
      "cell_type": "code",
      "source": [
        "#Exercício 03.\n",
        "\n",
        "listadepixels = [5, 15, 200, 195, 135, 67, 89, 201, 243, 1, 47, 39, 77, 189, 121, 144, 200, 209, 33, 20]\n",
        "offset = float(input('Informe o offset: '))\n",
        "gain  = float(input('Informe o gains: '))\n",
        "\n",
        "for i in listadepixels:       #PARA CADA VALOR DENTRO DA LISTA\n",
        "  x = ((i * gain) + offset)   #X É O VALOR DE CADA VALOR DENTRO DA LISTA * GAIN + OFFSET\n",
        "  if (x < 0):\n",
        "    x = 0\n",
        "  elif (x > 255):\n",
        "    x = 255\n",
        "  \n",
        "  print (x)"
      ],
      "metadata": {
        "id": "H7BhC7MewIXv"
      },
      "execution_count": null,
      "outputs": []
    },
    {
      "cell_type": "code",
      "source": [
        "#Exercício 04.\n",
        "\n",
        "listadepalavras = ['significado', 'exceção', 'impressão', 'ciência', 'respeito','fato', 'maturidade', 'essencial', 'paradigma', 'propósito', 'viés', 'vereda']\n",
        "emptylist = []\n",
        "\n",
        "listafrase = input('Informe o texto: ')\n",
        "\n",
        "for word in listafrase.split():                 #CADA PALAVRA INFORMADA NO INPUT E DIVIDIDA POR SPLIT\n",
        "  emptylist.append(word)                        #É ANEXADA NA LISTA VAZIA\n",
        "\n",
        "listadepalavras1 = set(listadepalavras)         #TRANSFORMAÇÃO PARA CONJUNTO\n",
        "listafrase1 = set(emptylist)\n",
        "listavazia = (listadepalavras1 & listafrase1)   #ADICIONA APENAS OS ELEMENTOS DE INTERSECÇÃO ENTRE DUAS LISTAS EM UMA TERCEIRA LISTA\n",
        "\n",
        "print (listadepalavras)\n",
        "print (listafrase1)\n",
        "print (listavazia)"
      ],
      "metadata": {
        "id": "BekE7BiEyUtw"
      },
      "execution_count": null,
      "outputs": []
    },
    {
      "cell_type": "code",
      "source": [
        "#EXERCÍCIO 05.\n",
        "\n",
        "listalistavazia = list()\n",
        "contador = 'y'\n",
        "\n",
        "while (contador == 'y'):\n",
        "  addword = input('Por favor, entre com a palavra: ')\n",
        "  listalistavazia.append(addword)                     #ACRESCENTA NA LISTA A PALAVRA DIGITADA\n",
        "  print (listalistavazia)\n",
        "  contador = input('Digite y para adicionar uma nova palavra na lista ou qualquer tecla para sair: ')\n",
        "  if (contador == 'y'):\n",
        "    continue\n",
        "  else:\n",
        "    break\n",
        "\n",
        "print (f'A lista final é: {listalistavazia}')"
      ],
      "metadata": {
        "id": "etO_D9d3152G"
      },
      "execution_count": null,
      "outputs": []
    },
    {
      "cell_type": "code",
      "source": [
        "#EXERCÍCIO 06.\n",
        "\n",
        "#SOMAR UMA LISTA SEM USAR A FUNÇÃO SOMA\n",
        "\n",
        "listvaz = []\n",
        "listavazia1 = []\n",
        "listadasoma = []\n",
        "\n",
        "sequencia = input('Informe uma sequência de números, separando-os por vírgula: ')\n",
        "\n",
        "for i in sequencia.split(','):             #SEPARA OS ELEMENTOS DE ACORDO COM AS VÍRGULAS DA SEQUÊNCIA DIGITADA\n",
        "  listvaz.append(i)                        #ADICIONA CADA ELEMENTO SEPARADO EM UMA LISTA VAZIA\n",
        "  listainteira = [int(i) for i in listvaz] #CRIA UMA LISTA IGUAL TRANSFORMANDO AS STRINGS EM INTEIROS\n",
        "  total = 0                                #SOMATÓRIA = 0\n",
        "  for nroo in listainteira:                #PARA CADA ELEMENTO DA LISTA DE NÚMEROS INTEIROS\n",
        "    total = total + nroo                   #SOMA-SE O VALOR DE NRO AO TOTAL                         \n",
        "    listadasoma.append(total)              #ADICIONA AS SOMAS EM UMA TERCEIRA LISTA VAZIA\n",
        "  print (listainteira)\n",
        "  print (total / len(listainteira))        #OBTÉM A MÉDIA DA SOMATÓRIA REALIZANDO-SE A DIVISÃO PELO COMPRIMENTO DA LISTA"
      ],
      "metadata": {
        "id": "04WRlaHk3TrA"
      },
      "execution_count": null,
      "outputs": []
    },
    {
      "cell_type": "code",
      "source": [
        "#EXERCÍCIO 07.\n",
        "\n",
        "def poligono (areadopoligono):\n",
        "  area = ((((x1coord*y2coord)-(y1coord*x2coord))+((x2coord*y3coord)-(y2coord*x3coord))+((x3coord*y4coord)-(y3coord*x4coord))+((x4coord*y1coord)-(y4coord*x1coord)))/2)\n",
        "  print (f'A área é: {area}')\n",
        "  print (f'Coordenadas do polígono (x, y): {coord}')\n",
        "\n",
        "x1coord = float(input('Digite o x1: '))\n",
        "y1coord = float(input('Digite o y1: '))\n",
        "\n",
        "x2coord = float(input('Digite o x2: '))\n",
        "y2coord = float(input('Digite o y2: '))\n",
        "\n",
        "x3coord = float(input('Digite o x3: '))\n",
        "y3coord = float(input('Digite o y3: '))\n",
        "\n",
        "x4coord = float(input('Digite o x4: '))\n",
        "y4coord = float(input('Digite o y4: '))\n",
        "\n",
        "run = input ('Você gostaria de calcular a área do polígono? Digite y para calcular ou qualquer letra para sair: ')\n",
        "\n",
        "if (run == 'y'):\n",
        "  coord = [(x1coord, y1coord), (x2coord, y2coord), (x3coord, y3coord), (x4coord, y4coord)]\n",
        "  poligono(coord)"
      ],
      "metadata": {
        "id": "XufKJdouGe8l"
      },
      "execution_count": null,
      "outputs": []
    }
  ]
}