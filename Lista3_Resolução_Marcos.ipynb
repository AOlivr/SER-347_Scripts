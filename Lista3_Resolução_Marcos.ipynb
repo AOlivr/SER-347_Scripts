{
  "cells": [
    {
      "cell_type": "markdown",
      "metadata": {
        "id": "view-in-github",
        "colab_type": "text"
      },
      "source": [
        "<a href=\"https://colab.research.google.com/github/AOlivr/SER-347_Scripts/blob/main/Lista3_Resolu%C3%A7%C3%A3o_Marcos.ipynb\" target=\"_parent\"><img src=\"https://colab.research.google.com/assets/colab-badge.svg\" alt=\"Open In Colab\"/></a>"
      ]
    },
    {
      "cell_type": "markdown",
      "metadata": {
        "id": "u_1ZWkumVOfR"
      },
      "source": [
        "## Lista 3 - Intr. à Prog. com Dados Geoespaciais (SER-347/CAP-419) 2022 "
      ]
    },
    {
      "cell_type": "code",
      "execution_count": null,
      "metadata": {
        "id": "MLzyyPOXVOfc"
      },
      "outputs": [],
      "source": [
        "#General Functions and Imports:\n",
        "import numpy as np\n",
        "import matplotlib.pyplot as plt\n",
        "import math\n",
        "\n",
        "#https://stackoverflow.com/questions/9647202/ordinal-numbers-replacement\n",
        "suf = lambda n: \"%d%s\"%(n,{1:\"st\",2:\"nd\",3:\"rd\"}.get(n if n<20 else n%10,\"th\"))\n",
        "\n",
        "#https://datagy.io/python-isdigit/\n",
        "# Check if a string represents a float in Python\n",
        "def is_float(a_string):\n",
        "    try:\n",
        "        float(a_string)\n",
        "        return True\n",
        "    except ValueError:\n",
        "        return False\n",
        "\n",
        "class Point:\n",
        "    def __init__(self, coords):\n",
        "        x,y = coords.split(',')\n",
        "        self.x = float(x)\n",
        "        self.y = float(y)\n",
        "    \n",
        "    def drawPoint(self):\n",
        "        plt.scatter(self.x,self.y)\n",
        "        \n",
        "def drawLine(points,custom='ro-'):\n",
        "        for i in range(0, len(points), 2):\n",
        "            plt.plot([points[i].x,points[i+1].x],[points[i].y,points[i+1].y], custom)"
      ]
    },
    {
      "cell_type": "markdown",
      "metadata": {
        "id": "r8IyP9oTVOfi"
      },
      "source": [
        "**Exercício 01.** Faça um programa em Python que leia três números reais e escreva o valor do maior e do menor deles. Para resolver este exercício, **não** utilizar as funções ```min/max```."
      ]
    },
    {
      "cell_type": "code",
      "execution_count": null,
      "metadata": {
        "id": "rIcuXuxzVOfk"
      },
      "outputs": [],
      "source": [
        "for i in range(1,4):\n",
        "    num = input('Digite o '+ suf(i) + ' número da sequência:')\n",
        "    \n",
        "    while not is_float(num.strip()):\n",
        "        num = input('Digite o '+ suf(i) + ' número da sequência:')\n",
        "        \n",
        "    num = float(num.strip())\n",
        "    \n",
        "    if i == 1:\n",
        "        menor = num\n",
        "        maior = num\n",
        "    else:\n",
        "        if num < menor:\n",
        "            menor = num\n",
        "        elif num > maior:\n",
        "            maior = num\n",
        "\n",
        "print('O maior valor digitado eh: ',maior,' enquanto que o menor eh:',menor)"
      ]
    },
    {
      "cell_type": "markdown",
      "metadata": {
        "id": "wmongbjjVOfp"
      },
      "source": [
        "**Exercício 02.** Escreva um programa em Python que leia o tamanho dos lados de um\n",
        "triângulo, avalie se esses valores realmente formam um triângulo, e em caso positivo,\n",
        "classifique o triângulo em isósceles, escaleno ou equilátero."
      ]
    },
    {
      "cell_type": "code",
      "execution_count": null,
      "metadata": {
        "id": "LCfCwrk0VOfr"
      },
      "outputs": [],
      "source": [
        "#https://brasilescola.uol.com.br/matematica/triangulo.htm\n",
        "#https://www.stoodi.com.br/blog/2018/07/04/triangulo/\n",
        "#Testar Condição de existência de um triângulo:\n",
        "def exist_triang_class(lados):\n",
        "    lados.sort()\n",
        "    if sum(lados[0:2]) >= lados[2]: #soma das 2 menores medidas maior ou igual a medida maior\n",
        "        if lados.count(lados[0]) > 2:\n",
        "            print('Triângulo equilátero: possui três lados com medidas iguais.')\n",
        "        elif lados.count(lados[0]) > 1 or lados.count(lados[1]) > 1:\n",
        "            print('Triângulo isósceles: possui dois lados com medidas iguais.')\n",
        "        else:\n",
        "            print('Triângulo escaleno: possui os três lados com medidas diferentes.')\n",
        "    else:\n",
        "        print('Os lados não formam um triângulo!')\n",
        "        \n",
        "\n",
        "l_triang = []\n",
        "for i in range(1,4):\n",
        "    l_triang.append(int(input('Digite o '+ suf(i) + ' lado do triângulo: ')))\n",
        "\n",
        "exist_triang_class(l_triang)"
      ]
    },
    {
      "cell_type": "code",
      "execution_count": null,
      "metadata": {
        "id": "JuojrJA0VOfu"
      },
      "outputs": [],
      "source": [
        "l = [2,8,5]\n",
        "print(sorted(l))\n",
        "print(l)\n",
        "l.sort()\n",
        "print(l)"
      ]
    },
    {
      "cell_type": "markdown",
      "metadata": {
        "id": "zETs4WfGVOfw"
      },
      "source": [
        "**Exercício 03.** Escreva um programa em Python que pergunte ao usuário um número entre 0 e 10, e diga se ele é ímpar ou par."
      ]
    },
    {
      "cell_type": "code",
      "execution_count": null,
      "metadata": {
        "id": "LFq5ECkoVOfx"
      },
      "outputs": [],
      "source": [
        "n=-1\n",
        "while n < 0 or n > 10:\n",
        "    n = int(input(\"Entre com um valor entre [0,10]: \"))\n",
        "    \n",
        "if n%2 == 0:\n",
        "    print(\"O número digitado:\",n,\"Eh par!\")\n",
        "else:\n",
        "    print(\"O número digitado:\",n,\"Eh ímpar!\")"
      ]
    },
    {
      "cell_type": "markdown",
      "metadata": {
        "id": "mdWpMUnGVOfz"
      },
      "source": [
        "**Exercício 04.** Escreva um programa em Python que pergunte ao usuário um número qualquer ($>0$), e diga se ele é divisível apenas por 2, apenas por 3, ou por 2 e por 3, ou se não é divisível nem por 2 nem por 3."
      ]
    },
    {
      "cell_type": "code",
      "execution_count": null,
      "metadata": {
        "id": "l86t8S8oVOf0",
        "outputId": "2dd242a0-d295-4b64-d8e3-2ab75a0da7fd"
      },
      "outputs": [
        {
          "name": "stdout",
          "output_type": "stream",
          "text": [
            "Entre com um valor (>0): 30\n",
            "O número digitado:  30  Eh divisivel por: [2, 3]\n"
          ]
        }
      ],
      "source": [
        "n=0\n",
        "while n<1:\n",
        "    n = int(input(\"Entre com um valor (>0): \"))\n",
        "    \n",
        "div = [2,3]\n",
        "verif = [0,0]\n",
        "for i,d in enumerate(div):\n",
        "    if n%d == 0:\n",
        "        verif[i] =1\n",
        "\n",
        "if sum(verif) == 0:\n",
        "    print(\"O número digitado: \",n,\" nao Eh divisivel nem por 2 nem por 3\")\n",
        "else:\n",
        "    print(\"O número digitado: \",n,\" Eh divisivel por:\", \\\n",
        "          [value for i,value in enumerate(div) if verif[i] == 1] )  "
      ]
    },
    {
      "cell_type": "markdown",
      "metadata": {
        "id": "sb-Dni2jVOf2"
      },
      "source": [
        "**Exercício 05.** Faça um programa em Python que pergunte ao usuário qual a série que ele deseja calcular e em seguida imprima o nome da série escolhida. Veja o exemplo do que deve ser escrito na tela:\n",
        "\n",
        "    0  Lucas\n",
        "    1  Pell\n",
        "    2  Triangular\n",
        "    3  Square\n",
        "    4  Pentagonal\n",
        "    \n",
        "Qual série você deseja computar? 3  \n",
        "Você escolheu computar a série \"Square\"!"
      ]
    },
    {
      "cell_type": "code",
      "execution_count": null,
      "metadata": {
        "id": "8PgJuUFCVOf2",
        "outputId": "d16ab153-e782-40af-cbf2-4eb98fc83f17"
      },
      "outputs": [
        {
          "name": "stdout",
          "output_type": "stream",
          "text": [
            "0 Lucas\n",
            "1 Pell\n",
            "2 Triangular\n",
            "3 Square\n",
            "4 Pentagonal\n",
            "\n",
            "Qual série você deseja computar? -1\n",
            "Qual série você deseja computar? 5\n",
            "Qual série você deseja computar? 4\n",
            "Você escolheu computar a série \"Pentagonal\"!\n"
          ]
        }
      ],
      "source": [
        "series = ['Lucas','Pell','Triangular','Square','Pentagonal']\n",
        "for i,s in enumerate(series):\n",
        "    print(i,s)\n",
        "    \n",
        "print()\n",
        "opc = -1    \n",
        "while opc < 0 or opc > (len(series)-1):\n",
        "    opc = int(input('Qual série você deseja computar? '))\n",
        "    \n",
        "print('Você escolheu computar a série \"'+series[opc]+'\"!')"
      ]
    },
    {
      "cell_type": "code",
      "execution_count": null,
      "metadata": {
        "id": "InpocJraVOf3",
        "outputId": "800d85ad-ce50-494d-cd01-5a19d37c06f8"
      },
      "outputs": [
        {
          "name": "stdout",
          "output_type": "stream",
          "text": [
            "Você escolheu computar a série \"Pentagonal\"!\n"
          ]
        }
      ],
      "source": [
        "print('Você escolheu computar a série \"'+series[opc]+'\"!')"
      ]
    },
    {
      "cell_type": "markdown",
      "metadata": {
        "id": "9C2AOBdnVOf4"
      },
      "source": [
        "**Exercício 06.** Faça um programa que pergunte ao usuário o seu conceito final em uma disciplina hipotética.  Dependendo do conceito digitado, diga o que ele significa, como mostrado abaixo:\n",
        "1. A+ Excepcional\n",
        "2. A Excelente\n",
        "3. A- Excelente\n",
        "4. B+ Bom\n",
        "5. B Bom\n",
        "6. B- Bom\n",
        "7. C+ Regular\n",
        "8. C Regular\n",
        "9. C- Regular\n",
        "10. D Reprovação"
      ]
    },
    {
      "cell_type": "code",
      "execution_count": null,
      "metadata": {
        "id": "kV0aLmSKVOf5",
        "outputId": "765764ee-516e-47b6-ceff-7559a61831d8"
      },
      "outputs": [
        {
          "name": "stdout",
          "output_type": "stream",
          "text": [
            "Por favor digite seu conceito (Ex.: A+): D\n",
            "De acordo com regimento, e o conceito:  D  alcançado, significa que você foi Reprovado!\n"
          ]
        }
      ],
      "source": [
        "conceitos = {'A+':'Excepcional','A':'Excelente','A-':'Excelente','B+':'Bom','B':'Bom', \\\n",
        "             'B-':'Bom','C+':'Regular','C':'Regular','C-':'Regular','D':'Reprovação'}\n",
        "\n",
        "nota = input('Por favor digite seu conceito (Ex.: A+): ')\n",
        "if nota.upper() not in conceitos:\n",
        "    print('Conceito digitado: ',nota,' não corresponde a um conceito válido de acordo com o regimento do curso.')\n",
        "elif nota.upper() == 'D':\n",
        "    print('De acordo com regimento, e o conceito: ',nota.upper(),' alcançado, significa que você foi Reprovado!')\n",
        "else:\n",
        "    print('De acordo com o regimento, e o conceito: ',nota.upper(),' alcançado, significa que seu aproveitamento foi: ',conceitos[nota.upper()])\n"
      ]
    },
    {
      "cell_type": "markdown",
      "metadata": {
        "id": "SaUmWg3BVOf6"
      },
      "source": [
        "**Exercício 07.** Escrever um programa em Python que simule uma calculadora comas funções básicas (+, -, /, *).  O programa deve pedir ao usuário para entrar comos operandos e o tipo de operação, e a seguir escrever o resultado."
      ]
    },
    {
      "cell_type": "code",
      "execution_count": null,
      "metadata": {
        "id": "AZjVnhIZVOf7",
        "outputId": "0148e642-80d6-444b-9e21-6c8784ad89ad"
      },
      "outputs": [
        {
          "name": "stdout",
          "output_type": "stream",
          "text": [
            "Por favor entrar com valores e operação desejada no seguinte formato:\n",
            "    operando_1 operacao(+,-,* ou /) operando_2\n",
            "    Exemplo: --> 10 + 20\n",
            "-->10 + 30\n",
            "Resultado =  40.0\n"
          ]
        }
      ],
      "source": [
        "print('Por favor entrar com valores e operação desejada no seguinte formato:\\n\\\n",
        "    operando_1 operacao(+,-,* ou /) operando_2\\n\\\n",
        "    Exemplo: --> 10 + 20')\n",
        "\n",
        "    \n",
        "itens = input('-->').split()\n",
        "if len(itens) == 3:\n",
        "    if itens[1] == '+':\n",
        "        print('Resultado = ', float(itens[0]) + float(itens[2]))            \n",
        "    elif itens[1] == '-':\n",
        "        print('Resultado = ', float(itens[0]) - float(itens[2]))            \n",
        "    elif itens[1] == '*':\n",
        "        print('Resultado = ', float(itens[0]) * float(itens[2]))            \n",
        "    elif itens[1] == '/':\n",
        "        print('Resultado = ', float(itens[0]) / float(itens[2]))\n",
        "    else:\n",
        "        print('Operação -->', itens[1], 'não existente nessa calculadora!')\n",
        "else:\n",
        "    print('Formato de entrada incorreto!')\n",
        "    \n",
        "   "
      ]
    },
    {
      "cell_type": "code",
      "execution_count": null,
      "metadata": {
        "id": "Oi3eOmV9VOf8",
        "outputId": "5fd4e6e4-864d-4198-f068-a980001facca"
      },
      "outputs": [
        {
          "data": {
            "text/plain": [
              "['minha', 'palavra']"
            ]
          },
          "execution_count": 39,
          "metadata": {},
          "output_type": "execute_result"
        }
      ],
      "source": [
        "teste = 'minha;palavra'\n",
        "teste.split(';')"
      ]
    },
    {
      "cell_type": "markdown",
      "metadata": {
        "id": "chPEDMcuVOf8"
      },
      "source": [
        "**Exercício 08.** Escreva um programa que calcule a menor distância entre um ponto e uma reta. Faça um programa que utilize esta função, possibilitando que o usuário entre com as informações de dois pontos pertencentes à reta, bem como o ponto para o qual deva ser avaliada a distância.  \n",
        "    **Dica:** A menor distância entre um ponto $P$ e uma reta $r$ corresponde ao segmento de reta perpendicular à $r$ que parte de $P$ e chega a $r$ (Figura 1).\n",
        "    \n",
        "| <img src=\"Fig1_lista2.png\" width=\"400\"> |\n",
        "|:--:| \n",
        "| Figura 1: Distância mínima entre um ponto e uma reta. |\n",
        "\n",
        "Uma forma de computar esta distância consiste na utilização da forma normal de Hessean para retas[<sup>1</sup>](#fn1). Para uma reta $r$ que passa pelos ponto $P1= (x1, y1)$ e $P2= (x2, y2)$, temos a seguinte fórmula:\n",
        "\n",
        "$h(x, y) = \\frac{(y_2 - y_1) \\times (x - x_1) - (x_2 - x_1) \\times (y - y_1)}{\\sqrt{(x_2 - x_1)^2 + (y_2 - y_1)^2}} = 0$\n",
        "\n",
        "com: $\\sqrt{(x2−x1)^2 + (y2−y1)^2}>0$.  \n",
        "A distância de $P= (x, y)$ a $r$ é dada por $|h(x, y)|$\n",
        "_________\n",
        " <sup>1</sup><span id=\"fn1\">Jurg Nievergelt e Klaus H. Hinrichs. Algorithms & Data Structures with Applications to Graphics and Geometry. Prentice Hall, 1993. 350 pp.</span>   "
      ]
    },
    {
      "cell_type": "code",
      "execution_count": null,
      "metadata": {
        "id": "d-yMJZfbVOf9",
        "outputId": "0f56161f-98ca-4383-e4f4-12953a514763"
      },
      "outputs": [
        {
          "name": "stdout",
          "output_type": "stream",
          "text": [
            "Digite as coordenadas x,y do 1st ponto:-5,13\n",
            "Digite as coordenadas x,y do 2nd ponto:3,-3\n",
            "Digite as coordenadas x,y do 3rd ponto:4,4\n",
            "4.024922359499621\n",
            "Equation line: y = -2.0x +3.000000\n"
          ]
        },
        {
          "data": {
            "image/png": "[encoded data removed]",
            "text/plain": [
              "<Figure size 432x288 with 1 Axes>"
            ]
          },
          "metadata": {
            "needs_background": "light"
          },
          "output_type": "display_data"
        }
      ],
      "source": [
        "points=[]\n",
        "for i in range(1,4):\n",
        "    coords = \"\"\n",
        "    while sum(map(bool, coords.split(','))) < 2:\n",
        "        coords = input('Digite as coordenadas x,y do '+ suf(i) + ' ponto:')\n",
        "    points.append(Point(coords))\n",
        "    \n",
        "\n",
        "drawLine(points[0:2])\n",
        "points[2].drawPoint()\n",
        "\n",
        "\n",
        "#Forma normal de Hessean - calc distância ponto - reta:\n",
        "denominador = np.sqrt( (points[1].x - points[0].x)**2 + (points[1].y - points[0].y)**2 )\n",
        "\n",
        "if denominador > 0:\n",
        "    h = np.abs( ( (points[1].y - points[0].y) * (points[2].x - points[0].x) - \\\n",
        "               (points[1].x - points[0].x) * (points[2].y - points[0].y) ) / denominador )\n",
        "else:\n",
        "    print(\"Um problema foi encontrado, recusado pelo teste de consistência (denominador > 0)!\")\n",
        "\n",
        "print(h)\n",
        "\n",
        "#drawLine([points[2],Point(str(points[2].x+h)+','+str(points[2].y-h))],custom='bo--')\n",
        "\n",
        "#https://content.byui.edu/file/b8b83119-9acc-4a7b-bc84-efacf9043998/1/Math-2-11-2.html\n",
        "#Extra - Find Equation line:\n",
        "slope = (points[1].y - points[0].y) / (points[1].x - points[0].x)\n",
        "y_intersect =  points[1].y - (slope * points[1].x)\n",
        "\n",
        "print('Equation line: y = {}x {:+f}'.format(slope,y_intersect))\n",
        "\n",
        "plt.grid()\n",
        "plt.show()"
      ]
    },
    {
      "cell_type": "markdown",
      "metadata": {
        "id": "kSDdpRCkVOf-"
      },
      "source": [
        "**Exercício 09.** Escreva uma programa em Python que avalie se dois segmentos de reta se interceptam ou não.\n",
        "\n",
        "**Dica:** Seja os segmentos de reta, $S=\\overline{P_1P_2}$ e $T=\\overline{P_3P_4}$ (Figura 2). Para saber se esses dois segmentos se interceptam, basta avaliar se os pontos $P_1$ e $P_2$ de $S$ encontram-se em lados opostos da reta que contém o segmento $T$, e se os pontos $P_3$ e $P_4$ de $T$ estão em lados opostos da reta que contém o segmento $S$.\n",
        "\n",
        "| <img src=\"Fig2_lista2.png\" width=\"500\"> |\n",
        "|:--:| \n",
        "| Figura 2: Interseção entre segmentos de reta. |\n",
        "\n",
        "A equação de Hessean, mostrada no exercício 08, pode ser usada para solução desse problema. Os pontos $P_1$ e $P_2$ encontram-se em lados opostos da reta que contém o segmento $T$, se $h(P_1) × h(P_2)<0$. De maneira análoga, os pontos $P_3$ e $P_4$ encontram-se em lados opostos da reta que contém o segmento $S$, se $h(P_3) × h(P_4)<0$[<sup>2</sup>](#fn2).  \n",
        "\n",
        "\n",
        "Se $h(P1) = 0$ ou $h(P_2) = 0$, significa que um desses pontos encontra-se sobre a reta que contém $T$. No caso de $h(P1) = 0 ∧ h(P2) = 0$, os segmentos $S$ e $T$ são colineares e um simples teste de intervalo com os pontos extremos dos segmentos é o suficiente para dizer se há ou não interseção. Veja que não é pedido no exercício para que seja computado o ponto de interseção $I$ mostrado na Figura 2. Além disso, deve ser considerado que os segmentos $S$ e $T$ possuem interseção, se eles tiverem qualquer ponto em comum, incluindo as extremidades $P_1$, $P_2$, $P_3$, ou $P_4$.\n",
        "\n",
        "__________________\n",
        "<sup>2</sup><span id=\"fn2\"> Nesta inequação, a avaliação do denominador da equação de Hessean se torna desnecessária.</span>   "
      ]
    },
    {
      "cell_type": "code",
      "execution_count": null,
      "metadata": {
        "id": "swGyGnDvVOf_",
        "outputId": "527414b6-af6d-4e22-b469-f9db8bbdfc11"
      },
      "outputs": [
        {
          "name": "stdout",
          "output_type": "stream",
          "text": [
            "Digite as coordenadas x,y do 1st ponto:2,2\n",
            "Digite as coordenadas x,y do 2nd ponto:5,2\n",
            "Digite as coordenadas x,y do 3rd ponto:3,2\n",
            "Digite as coordenadas x,y do 4th ponto:8,2\n",
            "Os segmentos de reta S e T nao sao verticais, colineares e possuem interseção\n"
          ]
        },
        {
          "data": {
            "image/png": "[encoded data removed]",
            "text/plain": [
              "<Figure size 432x288 with 1 Axes>"
            ]
          },
          "metadata": {
            "needs_background": "light"
          },
          "output_type": "display_data"
        }
      ],
      "source": [
        "def hessean_eq(points):\n",
        "    if len(points) < 3:\n",
        "        raise AssertionError(\"Not enough points to calc distance until the line'!\", len(points),'points')\n",
        "    \n",
        "    #Forma normal de Hessean - calc distância ponto - reta:\n",
        "    denominador = np.sqrt( (points[1].x - points[0].x)**2 + (points[1].y - points[0].y)**2 )\n",
        "\n",
        "    if denominador > 0:\n",
        "        h = ( (points[1].y - points[0].y) * (points[2].x - points[0].x) - \\\n",
        "                   (points[1].x - points[0].x) * (points[2].y - points[0].y) ) / denominador\n",
        "        return h\n",
        "    else:\n",
        "        print(\"Um problema foi encontrado, recusado pelo teste de consistência (denominador > 0)!\")\n",
        "\n",
        "\n",
        "points=[]\n",
        "for i in range(1,5):\n",
        "    coords = \"\"\n",
        "    while sum(map(bool, coords.split(','))) < 2:\n",
        "        coords = input('Digite as coordenadas x,y do '+ suf(i) + ' ponto:')\n",
        "    points.append(Point(coords))\n",
        "    \n",
        "\n",
        "#h_p3 = hessean_eq(points[0:3])\n",
        "#h_p4 = hessean_eq(points[0:2] + [points[3]]) #concatena semireta S e ponto P4\n",
        "\n",
        "# Posição de P1 em relação a P3 e P4(semireta T)\n",
        "h_p1 = hessean_eq(points[2:4] + [points[0]]) #concatena semireta T e ponto P1\n",
        "\n",
        "# Posição de P2 em relação a P3 e P4(semireta T)\n",
        "h_p2 = hessean_eq(points[2:4] + [points[1]]) #concatena semireta T e ponto P2\n",
        "\n",
        "\n",
        "drawLine(points[0:2])\n",
        "drawLine(points[2:4], custom='bo--')\n",
        "\n",
        "if h_p1 * h_p2 < 0:\n",
        "    print(\"Os segmentos de reta S e T definidos através dessa quadrupla de pontos, possuem interseção!\")\n",
        "elif h_p1 == 0 and h_p2 == 0: # Trata-se de segmentos colineares?\n",
        "    if points[0].x == points[1].x: #Os segmentos são verticais\n",
        "        if (min(points[0].y, points[1].y) <= max(points[2].y, points[3].y)) and \\\n",
        "        (min(points[2].y, points[3].y) <= max(points[0].y, points[1].y)):\n",
        "            print(\"Os segmentos de reta S e T sao verticais, colineares e possuem interseção\")\n",
        "        else:\n",
        "            print(\"Os segmentos de reta S e T sao verticais, colineares e não possuem interseção\")\n",
        "    else: # os segmentos não são verticais\n",
        "        if (min(points[0].x, points[1].x) <= max(points[2].x, points[3].x)) and \\\n",
        "        (min(points[2].x, points[3].x) <= max(points[0].x, points[1].x)):\n",
        "            print(\"Os segmentos de reta S e T nao sao verticais, colineares e possuem interseção\")\n",
        "        else:\n",
        "            print(\"Os segmentos de reta S e T nao sao verticais, colineares e não possuem interseção\")        \n",
        "else:\n",
        "        print(\"Os segmentos de reta S e T não possuem interseção\")"
      ]
    }
  ],
  "metadata": {
    "kernelspec": {
      "display_name": "Python 3",
      "language": "python",
      "name": "python3"
    },
    "language_info": {
      "codemirror_mode": {
        "name": "ipython",
        "version": 3
      },
      "file_extension": ".py",
      "mimetype": "text/x-python",
      "name": "python",
      "nbconvert_exporter": "python",
      "pygments_lexer": "ipython3",
      "version": "3.7.7"
    },
    "colab": {
      "name": "Lista3_2022.ipynb",
      "provenance": [],
      "include_colab_link": true
    }
  },
  "nbformat": 4,
  "nbformat_minor": 0
}