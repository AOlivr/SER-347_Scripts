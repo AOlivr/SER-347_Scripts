{
  "cells": [
    {
      "cell_type": "markdown",
      "metadata": {
        "id": "view-in-github",
        "colab_type": "text"
      },
      "source": [
        "<a href=\"https://colab.research.google.com/github/AOlivr/SER-347_Scripts/blob/main/Lista4_Resolu%C3%A7%C3%A3o_Marcos.ipynb\" target=\"_parent\"><img src=\"https://colab.research.google.com/assets/colab-badge.svg\" alt=\"Open In Colab\"/></a>"
      ]
    },
    {
      "cell_type": "markdown",
      "metadata": {
        "id": "6pk-c1iOWFSW"
      },
      "source": [
        "## Lista 4 - Intr. à Prog. com Dados Geoespaciais (SER-347/CAP-419) 2022 "
      ]
    },
    {
      "cell_type": "code",
      "execution_count": null,
      "metadata": {
        "id": "zJy5qKySWFSh"
      },
      "outputs": [],
      "source": [
        "#https://datagy.io/python-isdigit/\n",
        "# Check if a string represents a float in Python\n",
        "def is_float(a_string):\n",
        "    try:\n",
        "        float(a_string)\n",
        "        return True\n",
        "    except ValueError:\n",
        "        return False"
      ]
    },
    {
      "cell_type": "markdown",
      "metadata": {
        "id": "zOT1SRBsWFSk"
      },
      "source": [
        "**Exercício 01.** Faça um programa para computar e apresentar a sequência de cada uma das seguintes séries numéricas, depois de ler um número inteiro $n\\geq0$:\n",
        "\n",
        "\n",
        "* Lucas: 2, 1, 3, 4, 7, 11, 18, 29, 47 ...\n",
        "\n",
        "![](lucas_serie.png)\n",
        "\n",
        "\n",
        "* Pell: 0, 1, 2, 5, 12, 29, 70, 169, 408 ...\n",
        "![](pell_serie.png)\n",
        "\n",
        "\n",
        "* Triangular: 0, 1, 3, 6, 10, 15, 21, 28, 36 ...\n",
        "\n",
        "\\begin{equation*}\n",
        "T(n) = \\frac{n(n+1)}{2}\n",
        "\\end{equation*}\n",
        "\n",
        "* Square: 0, 1, 4, 9, 16, 25, 36, 49, 64 ...\n",
        "\n",
        "\\begin{equation*}\n",
        "S(n) = n^2\n",
        "\\end{equation*}\n",
        "\n",
        "* Pentagonal: 0, 1, 5, 12, 22, 35, 51, 70, 92 ...\n",
        "\n",
        "\\begin{equation*}\n",
        "P(n) = \\frac{3n^2 - n}{2}\n",
        "\\end{equation*}"
      ]
    },
    {
      "cell_type": "code",
      "execution_count": null,
      "metadata": {
        "id": "xvc_hqRCWFSm",
        "outputId": "4bb509fe-7614-451b-929c-a6973090b1d5"
      },
      "outputs": [
        {
          "name": "stdout",
          "output_type": "stream",
          "text": [
            "Por favor entre com valor (inteiro) n >= 0 para o computo das séries numéricas: -1\n",
            "Por favor entre com valor (inteiro) n >= 0 para o computo das séries numéricas: 0\n",
            "Lucas: [2]\n",
            "Pell: [0]\n",
            "Triangular: [0]\n",
            "Square: [0]\n",
            "Pentagonal: [0]\n"
          ]
        }
      ],
      "source": [
        "def lucas_serie(n):\n",
        "    lucas = [2,1]\n",
        "    for i in range(2,n+1):\n",
        "        lucas.append(lucas[i-1] + lucas[i-2])\n",
        "    return lucas[0:n+1]\n",
        "    \n",
        "    \n",
        "def pell_serie(n):\n",
        "    pell = [0,1]\n",
        "    for i in range(2,n+1):\n",
        "        pell.append(2*pell[i-1] + pell[i-2])\n",
        "    return pell[0:n+1]\n",
        "\n",
        "    \n",
        "def triangular_serie(n):\n",
        "    triangular = []\n",
        "    for i in range(0,n+1):\n",
        "        triangular.append(int(i*(i+1)/2))\n",
        "    return triangular[0:n+1]\n",
        "\n",
        "\n",
        "def square_serie(n):\n",
        "    square = []\n",
        "    for i in range(0,n+1):\n",
        "        square.append(i**2)\n",
        "    return square[0:n+1]\n",
        "    \n",
        "\n",
        "def pentagonal_serie(n):\n",
        "    pentagonal = []\n",
        "    for i in range(0,n+1):\n",
        "        pentagonal.append(int((3 * i**2 - i)/2))\n",
        "    return pentagonal[0:n+1]\n",
        "    \n",
        "\n",
        "n=-1\n",
        "while n < 0:\n",
        "    s = input('Por favor entre com valor (inteiro) n >= 0 para o computo das séries numéricas: ')\n",
        "    if s.isdecimal():\n",
        "        n = int(s)\n",
        "        \n",
        "print('Lucas:',lucas_serie(n))\n",
        "print('Pell:',pell_serie(n))\n",
        "print('Triangular:',triangular_serie(n))\n",
        "print('Square:',square_serie(n))\n",
        "print('Pentagonal:',pentagonal_serie(n))       "
      ]
    },
    {
      "cell_type": "code",
      "execution_count": null,
      "metadata": {
        "id": "lvqEpiX9WFSq"
      },
      "outputs": [],
      "source": [
        "Lucas: 2, 1, 3, 4, 7, 11, 18, 29, 47, ....\n",
        "Pell: 0, 1, 2, 5, 12, 29, 70, 169, 408, ....\n",
        "Triangular: 0, 1, 3, 6, 10, 15, 21, 28, 36, ....\n",
        "Square: 0, 1, 4, 9, 16, 25, 36, 49, 64, ....\n",
        "Pentagonal: 0, 1, 5, 12, 22, 35, 51, 70, 92, ...."
      ]
    },
    {
      "cell_type": "markdown",
      "metadata": {
        "id": "5YiNduZlWFSr"
      },
      "source": [
        "The superscript and subscripts are considered digit characters but not decimals. If the \n",
        "string contains these characters (usually written using unicode), isdecimal() returns False.\n",
        "\n",
        "Similarly, roman numerals, currency numerators and fractions are considered numeric \n",
        "numbers (usually written using unicode) but not decimals. The isdecimal() also returns \n",
        "False in this case.\n",
        "\n",
        "Source: https://www.programiz.com/python-programming/methods/string/isdecimal#google_vignette"
      ]
    },
    {
      "cell_type": "code",
      "execution_count": null,
      "metadata": {
        "id": "Oi9NBVlNWFSs",
        "outputId": "b04efa1b-57f0-4cfe-d522-571436ceede3"
      },
      "outputs": [
        {
          "name": "stdout",
          "output_type": "stream",
          "text": [
            "True\n",
            "False\n",
            "False\n"
          ]
        }
      ],
      "source": [
        "s = '23455'\n",
        "print(s.isdecimal())\n",
        "\n",
        "#s = '3455²'\n",
        "s = '3455\\u00B2'\n",
        "print(s.isdecimal())\n",
        "\n",
        "# s = '½'\n",
        "s = '\\u00BD'\n",
        "print(s.isdecimal())"
      ]
    },
    {
      "cell_type": "markdown",
      "metadata": {
        "id": "snhgO1HOWFSu"
      },
      "source": [
        "**Exercício 02.** Escrever um programa em Python que simule uma calculadora com as funções básicas (+, -, /, *).  O programa deve pedir ao usuário para entrar com os operandos e o tipo de operação, e a seguir escrever o resultado.  Assim como uma calculadora, que ao final de uma operação pode ser utilizada novamente, você deve simular este comportamento perguntando ao usuário se ele quer realizar uma nova operação."
      ]
    },
    {
      "cell_type": "code",
      "execution_count": null,
      "metadata": {
        "id": "dfJ3IeiTWFSv",
        "outputId": "51275b40-4d45-4e36-cccf-23102ec30fdf"
      },
      "outputs": [
        {
          "name": "stdout",
          "output_type": "stream",
          "text": [
            "Por favor entrar com valores e operação desejada no seguinte formato:\n",
            "    operando_1<espaço>operação(+,-,* ou /)<espaço>operando_2\n",
            "    Exemplo: -->10 + 20\n",
            "-->10 + 30\n",
            "Resultado =  40.0\n",
            "Deseja realizar outra operação? (y/n): y\n",
            "operação e operando_2 -->- 10\n",
            "Resultado =  30.0\n",
            "Deseja realizar outra operação? (y/n): y\n",
            "operação e operando_2 -->/2\n",
            "Formato de entrada incorreto!\n",
            "operação e operando_2 -->/ 2\n",
            "Resultado =  15.0\n"
          ]
        },
        {
          "ename": "KeyboardInterrupt",
          "evalue": "",
          "output_type": "error",
          "traceback": [
            "\u001b[0;31m---------------------------------------------------------------------------\u001b[0m",
            "\u001b[0;31mKeyboardInterrupt\u001b[0m                         Traceback (most recent call last)",
            "\u001b[0;32m~/miniconda3/envs/geospatial/lib/python3.7/site-packages/ipykernel/kernelbase.py\u001b[0m in \u001b[0;36m_input_request\u001b[0;34m(self, prompt, ident, parent, password)\u001b[0m\n\u001b[1;32m    883\u001b[0m             \u001b[0;32mtry\u001b[0m\u001b[0;34m:\u001b[0m\u001b[0;34m\u001b[0m\u001b[0;34m\u001b[0m\u001b[0m\n\u001b[0;32m--> 884\u001b[0;31m                 \u001b[0mident\u001b[0m\u001b[0;34m,\u001b[0m \u001b[0mreply\u001b[0m \u001b[0;34m=\u001b[0m \u001b[0mself\u001b[0m\u001b[0;34m.\u001b[0m\u001b[0msession\u001b[0m\u001b[0;34m.\u001b[0m\u001b[0mrecv\u001b[0m\u001b[0;34m(\u001b[0m\u001b[0mself\u001b[0m\u001b[0;34m.\u001b[0m\u001b[0mstdin_socket\u001b[0m\u001b[0;34m,\u001b[0m \u001b[0;36m0\u001b[0m\u001b[0;34m)\u001b[0m\u001b[0;34m\u001b[0m\u001b[0;34m\u001b[0m\u001b[0m\n\u001b[0m\u001b[1;32m    885\u001b[0m             \u001b[0;32mexcept\u001b[0m \u001b[0mException\u001b[0m\u001b[0;34m:\u001b[0m\u001b[0;34m\u001b[0m\u001b[0;34m\u001b[0m\u001b[0m\n",
            "\u001b[0;32m~/miniconda3/envs/geospatial/lib/python3.7/site-packages/jupyter_client/session.py\u001b[0m in \u001b[0;36mrecv\u001b[0;34m(self, socket, mode, content, copy)\u001b[0m\n\u001b[1;32m    812\u001b[0m         \u001b[0;32mtry\u001b[0m\u001b[0;34m:\u001b[0m\u001b[0;34m\u001b[0m\u001b[0;34m\u001b[0m\u001b[0m\n\u001b[0;32m--> 813\u001b[0;31m             \u001b[0mmsg_list\u001b[0m \u001b[0;34m=\u001b[0m \u001b[0msocket\u001b[0m\u001b[0;34m.\u001b[0m\u001b[0mrecv_multipart\u001b[0m\u001b[0;34m(\u001b[0m\u001b[0mmode\u001b[0m\u001b[0;34m,\u001b[0m \u001b[0mcopy\u001b[0m\u001b[0;34m=\u001b[0m\u001b[0mcopy\u001b[0m\u001b[0;34m)\u001b[0m\u001b[0;34m\u001b[0m\u001b[0;34m\u001b[0m\u001b[0m\n\u001b[0m\u001b[1;32m    814\u001b[0m         \u001b[0;32mexcept\u001b[0m \u001b[0mzmq\u001b[0m\u001b[0;34m.\u001b[0m\u001b[0mZMQError\u001b[0m \u001b[0;32mas\u001b[0m \u001b[0me\u001b[0m\u001b[0;34m:\u001b[0m\u001b[0;34m\u001b[0m\u001b[0;34m\u001b[0m\u001b[0m\n",
            "\u001b[0;32m~/miniconda3/envs/geospatial/lib/python3.7/site-packages/zmq/sugar/socket.py\u001b[0m in \u001b[0;36mrecv_multipart\u001b[0;34m(self, flags, copy, track)\u001b[0m\n\u001b[1;32m    474\u001b[0m         \"\"\"\n\u001b[0;32m--> 475\u001b[0;31m         \u001b[0mparts\u001b[0m \u001b[0;34m=\u001b[0m \u001b[0;34m[\u001b[0m\u001b[0mself\u001b[0m\u001b[0;34m.\u001b[0m\u001b[0mrecv\u001b[0m\u001b[0;34m(\u001b[0m\u001b[0mflags\u001b[0m\u001b[0;34m,\u001b[0m \u001b[0mcopy\u001b[0m\u001b[0;34m=\u001b[0m\u001b[0mcopy\u001b[0m\u001b[0;34m,\u001b[0m \u001b[0mtrack\u001b[0m\u001b[0;34m=\u001b[0m\u001b[0mtrack\u001b[0m\u001b[0;34m)\u001b[0m\u001b[0;34m]\u001b[0m\u001b[0;34m\u001b[0m\u001b[0;34m\u001b[0m\u001b[0m\n\u001b[0m\u001b[1;32m    476\u001b[0m         \u001b[0;31m# have first part already, only loop while more to receive\u001b[0m\u001b[0;34m\u001b[0m\u001b[0;34m\u001b[0m\u001b[0;34m\u001b[0m\u001b[0m\n",
            "\u001b[0;32mzmq/backend/cython/socket.pyx\u001b[0m in \u001b[0;36mzmq.backend.cython.socket.Socket.recv\u001b[0;34m()\u001b[0m\n",
            "\u001b[0;32mzmq/backend/cython/socket.pyx\u001b[0m in \u001b[0;36mzmq.backend.cython.socket.Socket.recv\u001b[0;34m()\u001b[0m\n",
            "\u001b[0;32mzmq/backend/cython/socket.pyx\u001b[0m in \u001b[0;36mzmq.backend.cython.socket._recv_copy\u001b[0;34m()\u001b[0m\n",
            "\u001b[0;32m~/miniconda3/envs/geospatial/lib/python3.7/site-packages/zmq/backend/cython/checkrc.pxd\u001b[0m in \u001b[0;36mzmq.backend.cython.checkrc._check_rc\u001b[0;34m()\u001b[0m\n",
            "\u001b[0;31mKeyboardInterrupt\u001b[0m: ",
            "\nDuring handling of the above exception, another exception occurred:\n",
            "\u001b[0;31mKeyboardInterrupt\u001b[0m                         Traceback (most recent call last)",
            "\u001b[0;32m<ipython-input-12-de7bf6790c25>\u001b[0m in \u001b[0;36m<module>\u001b[0;34m\u001b[0m\n\u001b[1;32m     61\u001b[0m         \u001b[0;32mcontinue\u001b[0m\u001b[0;34m\u001b[0m\u001b[0;34m\u001b[0m\u001b[0m\n\u001b[1;32m     62\u001b[0m \u001b[0;34m\u001b[0m\u001b[0m\n\u001b[0;32m---> 63\u001b[0;31m     \u001b[0mopc\u001b[0m \u001b[0;34m=\u001b[0m \u001b[0minput\u001b[0m\u001b[0;34m(\u001b[0m\u001b[0;34m'Deseja realizar outra operação? (y/n): '\u001b[0m\u001b[0;34m)\u001b[0m\u001b[0;34m\u001b[0m\u001b[0;34m\u001b[0m\u001b[0m\n\u001b[0m\u001b[1;32m     64\u001b[0m \u001b[0;34m\u001b[0m\u001b[0m\n",
            "\u001b[0;32m~/miniconda3/envs/geospatial/lib/python3.7/site-packages/ipykernel/kernelbase.py\u001b[0m in \u001b[0;36mraw_input\u001b[0;34m(self, prompt)\u001b[0m\n\u001b[1;32m    857\u001b[0m             \u001b[0mself\u001b[0m\u001b[0;34m.\u001b[0m\u001b[0m_parent_ident\u001b[0m\u001b[0;34m,\u001b[0m\u001b[0;34m\u001b[0m\u001b[0;34m\u001b[0m\u001b[0m\n\u001b[1;32m    858\u001b[0m             \u001b[0mself\u001b[0m\u001b[0;34m.\u001b[0m\u001b[0m_parent_header\u001b[0m\u001b[0;34m,\u001b[0m\u001b[0;34m\u001b[0m\u001b[0;34m\u001b[0m\u001b[0m\n\u001b[0;32m--> 859\u001b[0;31m             \u001b[0mpassword\u001b[0m\u001b[0;34m=\u001b[0m\u001b[0;32mFalse\u001b[0m\u001b[0;34m,\u001b[0m\u001b[0;34m\u001b[0m\u001b[0;34m\u001b[0m\u001b[0m\n\u001b[0m\u001b[1;32m    860\u001b[0m         )\n\u001b[1;32m    861\u001b[0m \u001b[0;34m\u001b[0m\u001b[0m\n",
            "\u001b[0;32m~/miniconda3/envs/geospatial/lib/python3.7/site-packages/ipykernel/kernelbase.py\u001b[0m in \u001b[0;36m_input_request\u001b[0;34m(self, prompt, ident, parent, password)\u001b[0m\n\u001b[1;32m    887\u001b[0m             \u001b[0;32mexcept\u001b[0m \u001b[0mKeyboardInterrupt\u001b[0m\u001b[0;34m:\u001b[0m\u001b[0;34m\u001b[0m\u001b[0;34m\u001b[0m\u001b[0m\n\u001b[1;32m    888\u001b[0m                 \u001b[0;31m# re-raise KeyboardInterrupt, to truncate traceback\u001b[0m\u001b[0;34m\u001b[0m\u001b[0;34m\u001b[0m\u001b[0;34m\u001b[0m\u001b[0m\n\u001b[0;32m--> 889\u001b[0;31m                 \u001b[0;32mraise\u001b[0m \u001b[0mKeyboardInterrupt\u001b[0m\u001b[0;34m\u001b[0m\u001b[0;34m\u001b[0m\u001b[0m\n\u001b[0m\u001b[1;32m    890\u001b[0m             \u001b[0;32melse\u001b[0m\u001b[0;34m:\u001b[0m\u001b[0;34m\u001b[0m\u001b[0;34m\u001b[0m\u001b[0m\n\u001b[1;32m    891\u001b[0m                 \u001b[0;32mbreak\u001b[0m\u001b[0;34m\u001b[0m\u001b[0;34m\u001b[0m\u001b[0m\n",
            "\u001b[0;31mKeyboardInterrupt\u001b[0m: "
          ]
        }
      ],
      "source": [
        "opc = 'y'\n",
        "print('Por favor entrar com valores e operação desejada no seguinte formato:\\n\\\n",
        "    operando_1<espaço>operação(+,-,* ou /)<espaço>operando_2\\n\\\n",
        "    Exemplo: -->10 + 20')\n",
        "\n",
        "res = 'NaN'\n",
        "while opc.lower() == 'y': \n",
        "    if res != 'NaN':\n",
        "        itens = input('operação e operando_2 -->').split()\n",
        "    else:\n",
        "        itens = input('-->').split()\n",
        "        \n",
        "    if len(itens) == 3:\n",
        "        if is_float(itens[0]) == False or is_float(itens[2]) == False:\n",
        "            print('Um dos operandos informados não corresponde a um número válido!')\n",
        "            continue\n",
        "        if itens[1] == '+':\n",
        "            res = float(itens[0]) + float(itens[2])\n",
        "            print('Resultado = ', res)            \n",
        "        elif itens[1] == '-':\n",
        "            res = float(itens[0]) - float(itens[2])\n",
        "            print('Resultado = ', res)            \n",
        "        elif itens[1] == '*':\n",
        "            res = float(itens[0]) * float(itens[2])\n",
        "            print('Resultado = ', )            \n",
        "        elif itens[1] == '/':\n",
        "            try:\n",
        "                res = float(itens[0]) / float(itens[2])\n",
        "                print('Resultado = ', )\n",
        "            except ZeroDivisionError:\n",
        "                print(\"Erro - divisão por zero!\")            \n",
        "        else:\n",
        "            print('Operação -->', itens[1], 'não existente nessa calculadora!')\n",
        "            \n",
        "    elif len(itens) == 2:\n",
        "        if is_float(itens[1])  == False:\n",
        "            print('Operando informado não corresponde a um número válido!')\n",
        "            continue\n",
        "            \n",
        "        if itens[0] == '+':\n",
        "            res = res + float(itens[1])\n",
        "            print('Resultado = ', res)            \n",
        "        elif itens[0] == '-':\n",
        "            res = res - float(itens[1])\n",
        "            print('Resultado = ', res)            \n",
        "        elif itens[0] == '*':\n",
        "            res = res * float(itens[1])\n",
        "            print('Resultado = ', res)            \n",
        "        elif itens[0] == '/':\n",
        "            try:\n",
        "                res = res / float(itens[1])\n",
        "                print('Resultado = ', res)\n",
        "            except ZeroDivisionError:\n",
        "                print(\"Erro - divisão por zero!\")            \n",
        "        else:\n",
        "            print('Operação -->', itens[1], 'não existente nessa calculadora!')   \n",
        "\n",
        "        \n",
        "    else:\n",
        "        print('Formato de entrada incorreto!')\n",
        "        continue\n",
        "    \n",
        "    opc = input('Deseja realizar outra operação? (y/n): ')\n",
        "    "
      ]
    }
  ],
  "metadata": {
    "kernelspec": {
      "display_name": "Python 3",
      "language": "python",
      "name": "python3"
    },
    "language_info": {
      "codemirror_mode": {
        "name": "ipython",
        "version": 3
      },
      "file_extension": ".py",
      "mimetype": "text/x-python",
      "name": "python",
      "nbconvert_exporter": "python",
      "pygments_lexer": "ipython3",
      "version": "3.7.7"
    },
    "colab": {
      "name": "Lista4_2022.ipynb",
      "provenance": [],
      "include_colab_link": true
    }
  },
  "nbformat": 4,
  "nbformat_minor": 0
}