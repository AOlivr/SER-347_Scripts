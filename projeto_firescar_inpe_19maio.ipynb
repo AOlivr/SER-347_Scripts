{
  "cells": [
    {
      "cell_type": "markdown",
      "metadata": {
        "id": "view-in-github",
        "colab_type": "text"
      },
      "source": [
        "<a href=\"https://colab.research.google.com/github/AOlivr/SER-347_Scripts/blob/main/projeto_firescar_inpe_19maio.ipynb\" target=\"_parent\"><img src=\"https://colab.research.google.com/assets/colab-badge.svg\" alt=\"Open In Colab\"/></a>"
      ]
    },
    {
      "cell_type": "markdown",
      "id": "e7cd7e24",
      "metadata": {
        "id": "e7cd7e24"
      },
      "source": [
        "NDVI PRÉ FOGO - CBERS4A - Parque Nacional do Veadeiros"
      ]
    },
    {
      "cell_type": "code",
      "execution_count": 1,
      "id": "b98d96bc",
      "metadata": {
        "id": "b98d96bc"
      },
      "outputs": [],
      "source": [
        "# Importação dos das bibliotecas e módulos\n",
        "from osgeo import gdal\n",
        "import matplotlib.pyplot as plt\n",
        "import numpy as np\n",
        "gdal.UseExceptions()"
      ]
    },
    {
      "cell_type": "code",
      "execution_count": 2,
      "id": "f7dfe83d",
      "metadata": {
        "id": "f7dfe83d"
      },
      "outputs": [],
      "source": [
        "# Ao escrever o link de acesso do arquivo, importante colocar 'r' antes da string para reconhecimento correto do caminho\n",
        "redprefogo = gdal.Open(r'/content/prefogo_parnaveadeiros_CBERS_4A_WPM_20210816_207_131_L4_BAND3.tif', gdal.GA_ReadOnly)\n",
        "nirprefogo = gdal.Open(r'/content/prefogo_parnaveadeiros_CBERS_4A_WPM_20210816_207_131_L4_BAND4.tif', gdal.GA_ReadOnly)"
      ]
    },
    {
      "cell_type": "code",
      "execution_count": null,
      "id": "de484e7f",
      "metadata": {
        "id": "de484e7f"
      },
      "outputs": [],
      "source": [
        "# Visualização das informações de projeção\n",
        "print(redprefogo.GetProjection())\n",
        "print(nirprefogo.GetProjection())"
      ]
    },
    {
      "cell_type": "code",
      "execution_count": null,
      "id": "259f25a3",
      "metadata": {
        "id": "259f25a3"
      },
      "outputs": [],
      "source": [
        "# Criação de uma matriz NumPy. Permite o uso de todas as operações da NumPy.\n",
        "matriz_redprefogo = redprefogo.ReadAsArray()\n",
        "matriz_nirprefogo = nirprefogo.ReadAsArray()\n",
        "print(matriz_redprefogo.dtype)\n",
        "print(matriz_nirprefogo.dtype)\n",
        "\n",
        "# Visualização do shape da matriz\n",
        "print(matriz_redprefogo.shape)\n",
        "print(matriz_nirprefogo.shape)\n",
        "\n",
        "# Visualização do datatype da matriz\n",
        "print(matriz_redprefogo.dtype)\n",
        "print(matriz_nirprefogo.dtype)"
      ]
    },
    {
      "cell_type": "code",
      "execution_count": null,
      "id": "8e75249d",
      "metadata": {
        "id": "8e75249d"
      },
      "outputs": [],
      "source": [
        "# Transformação do tipo de dado de Int16 para Float. Importante para realizar o cálculo do NDVI.\n",
        "matriz_redprefogo = matriz_redprefogo.astype(float)\n",
        "matriz_nirprefogo = matriz_nirprefogo.astype(float)\n",
        "\n",
        "# Cálculo do NDVI PRÉ FOGO\n",
        "ndvi_prefogo = (matriz_nirprefogo - matriz_redprefogo) / (matriz_redprefogo + matriz_nirprefogo + 0.000000001)\n",
        "\n",
        "# Saída NDVI PRÉ FOGO\n",
        "ndvi_prefogo"
      ]
    },
    {
      "cell_type": "code",
      "execution_count": null,
      "id": "0ea439f4",
      "metadata": {
        "id": "0ea439f4"
      },
      "outputs": [],
      "source": [
        "plt.figure(figsize=(30, 15))\n",
        "plt.title('NDVI PRÉ FOGO')\n",
        "plt.imshow(ndvi_prefogo, cmap='gray', vmin=-1.0, vmax=1.0)\n",
        "plt.grid(color='w', linestyle='-', linewidth=0.5)"
      ]
    },
    {
      "cell_type": "markdown",
      "id": "ba3014db",
      "metadata": {
        "id": "ba3014db"
      },
      "source": [
        "NDVI PÓS FOGO - CBERS4A - Parque Nacional do Veadeiros"
      ]
    },
    {
      "cell_type": "code",
      "execution_count": 7,
      "id": "0388eedf",
      "metadata": {
        "id": "0388eedf"
      },
      "outputs": [],
      "source": [
        "# Ao escrever o link de acesso do arquivo, importante colocar 'r' antes da string para reconhecimento correto do caminho\n",
        "redposfogo = gdal.Open(r'/content/posfogo_parnaveadeiros_CBERS_4A_WPM_20210921_206_131_L2_BAND3.tif', gdal.GA_ReadOnly)\n",
        "nirposfogo = gdal.Open(r'/content/posfogo_parnaveadeiros_CBERS_4A_WPM_20210921_206_131_L2_BAND4.tif', gdal.GA_ReadOnly)"
      ]
    },
    {
      "cell_type": "code",
      "execution_count": null,
      "id": "c822a03e",
      "metadata": {
        "id": "c822a03e"
      },
      "outputs": [],
      "source": [
        "# Visualização das informações de projeção\n",
        "print(redposfogo.GetProjectionRef())\n",
        "print(nirposfogo.GetProjectionRef())"
      ]
    },
    {
      "cell_type": "code",
      "execution_count": null,
      "id": "5396efa9",
      "metadata": {
        "id": "5396efa9"
      },
      "outputs": [],
      "source": [
        "# Criação de uma matriz NumPy. Permite o uso de todas as operações da NumPy.\n",
        "matriz_redposfogo = redposfogo.ReadAsArray()\n",
        "matriz_nirposfogo = nirposfogo.ReadAsArray()\n",
        "print(type(matriz_redposfogo))\n",
        "print(type(matriz_nirposfogo))\n",
        "\n",
        "# Visualização do shape da matriz\n",
        "print(matriz_redposfogo.shape)\n",
        "print(matriz_nirposfogo.shape)\n",
        "\n",
        "# Visualização do datatype da matriz\n",
        "print(matriz_redposfogo.dtype)\n",
        "print(matriz_nirposfogo.dtype)"
      ]
    },
    {
      "cell_type": "code",
      "execution_count": null,
      "id": "34b22f2d",
      "metadata": {
        "id": "34b22f2d"
      },
      "outputs": [],
      "source": [
        "# Transformação do tipo de dado de Int16 para Float. Importante para realizar o cálculo do NDVI.\n",
        "matriz_redposfogo = matriz_redposfogo.astype(float)\n",
        "matriz_nirposfogo = matriz_nirposfogo.astype(float)\n",
        "\n",
        "# Cálculo do NDVI PÓS FOGO\n",
        "ndvi_posfogo = (matriz_nirposfogo - matriz_redposfogo) / (matriz_nirposfogo + matriz_redposfogo + 0.000000001)\n",
        "\n",
        "ndvi_posfogo"
      ]
    },
    {
      "cell_type": "code",
      "execution_count": null,
      "id": "f8695e30",
      "metadata": {
        "id": "f8695e30"
      },
      "outputs": [],
      "source": [
        "plt.figure(figsize=(30,15))\n",
        "plt.title(\"NDVI PÓS FOGO\")\n",
        "plt.imshow(ndvi_posfogo, cmap='gray', vmin=-1.0, vmax=1.0)\n",
        "plt.grid(color='w', linestyle='-', linewidth=0.5)"
      ]
    },
    {
      "cell_type": "code",
      "execution_count": null,
      "id": "d1782ce8",
      "metadata": {
        "scrolled": true,
        "id": "d1782ce8"
      },
      "outputs": [],
      "source": [
        "ndvi_diferenca = ndvi_prefogo - ndvi_posfogo\n",
        "ndvi_diferenca"
      ]
    },
    {
      "cell_type": "code",
      "execution_count": null,
      "id": "f4f5b613",
      "metadata": {
        "scrolled": true,
        "id": "f4f5b613"
      },
      "outputs": [],
      "source": [
        "# Quanto mais branca a região, maior a modificação na estrutura da vegetação entre o período anterior e o posterior ao fogo.\n",
        "plt.figure(figsize=(30,15))\n",
        "plt.title(\"NDVI DIFERENÇA\")\n",
        "plt.imshow(ndvi_diferenca, cmap='inferno', vmin=-1.0, vmax=1.0)\n",
        "plt.grid(color='w', linestyle='-', linewidth=0.5)"
      ]
    },
    {
      "cell_type": "markdown",
      "id": "f42c8036",
      "metadata": {
        "id": "f42c8036"
      },
      "source": [
        "Crescimento de região e retorno da área em km² e hectares"
      ]
    },
    {
      "cell_type": "code",
      "source": [
        "# Cria, a partir da matriz da diferença de ndvi, uma matriz binária, onde 1 = não cicatriz; e 2 = cicatriz potencial\n",
        "copy = np.zeros(shape=(ndvi_diferenca.shape), dtype=np.uint8)  \n",
        "copy = np.where(ndvi_diferenca < 0.15, 1, np.where(ndvi_diferenca >= 0.15, 0, 0))"
      ],
      "metadata": {
        "id": "BWfK2npl-YXY"
      },
      "id": "BWfK2npl-YXY",
      "execution_count": 306,
      "outputs": []
    },
    {
      "cell_type": "code",
      "source": [
        "# Plota a matriz binária\n",
        "plt.figure(figsize=(30,15))\n",
        "plt.title('BINARY')\n",
        "plt.imshow(copy, cmap='gray')\n",
        "plt.grid(b=True, which='major', color='black', linestyle='-', linewidth = 1.5)\n",
        "plt.grid(b=True, which='minor', color='red', linestyle='-', alpha=1.5)\n",
        "plt.minorticks_on()\n",
        "plt.show()"
      ],
      "metadata": {
        "id": "SPd231FvAwfJ"
      },
      "id": "SPd231FvAwfJ",
      "execution_count": null,
      "outputs": []
    },
    {
      "cell_type": "code",
      "source": [
        "# Exibe o histograma da matriz binária\n",
        "plt.hist(copy.flatten(), bins=10, range=(0,1)) \n",
        "plt.title('Histograma da matriz delta');"
      ],
      "metadata": {
        "id": "XkJ848NyGBz9"
      },
      "id": "XkJ848NyGBz9",
      "execution_count": null,
      "outputs": []
    },
    {
      "cell_type": "code",
      "source": [
        "# Input das coordenadas em linha e coluna\n",
        "coords = []\n",
        "xline = int(input('Line: '))\n",
        "ycolumn = int(input('Column: '))\n",
        "coords.append (xline-1)\n",
        "coords.append (ycolumn-1)"
      ],
      "metadata": {
        "id": "nhLePu9l_Ppn"
      },
      "id": "nhLePu9l_Ppn",
      "execution_count": null,
      "outputs": []
    },
    {
      "cell_type": "code",
      "source": [
        "# Seleciona os arredores do pixel informado\n",
        "num_neighbor = 1\n",
        "\n",
        "while (num_neighbor < 1000):\n",
        "  left = max(0,coords[0]-num_neighbor)\n",
        "  right = max(0,coords[0]+num_neighbor+1)\n",
        "  bottom = max(0,coords[1]-num_neighbor)\n",
        "  top = max(0,coords[1]+num_neighbor+1)\n",
        "  matriz_run = copy[left:right,bottom:top]  \n",
        "\n",
        "  if (matriz_run == 1).all():\n",
        "    print ('O valor central deve ser 0')\n",
        "    break\n",
        "\n",
        "  else:\n",
        "    for item in matriz_run:\n",
        "      if (item == 0).any():\n",
        "        num_neighbor = num_neighbor + 1"
      ],
      "metadata": {
        "id": "yooYihmt_UzP"
      },
      "id": "yooYihmt_UzP",
      "execution_count": 309,
      "outputs": []
    },
    {
      "cell_type": "code",
      "source": [
        "# Plota, com base na matriz binária, uma nova matriz criada a partir da coordenada informada anteriormente\n",
        "plt.figure(figsize=(12, 8))\n",
        "plt.subplot(133)\n",
        "plt.title('ARREDORES')\n",
        "plt.imshow(matriz_run, cmap='gray')"
      ],
      "metadata": {
        "id": "ZetmBllWJ03Q"
      },
      "id": "ZetmBllWJ03Q",
      "execution_count": null,
      "outputs": []
    },
    {
      "cell_type": "code",
      "source": [
        "# Para os arredores do pixel informado anteriormente, realiza-se o cálculo da área estimada das cicatrizes de fogo\n",
        "area = []\n",
        "for item in matriz_run:\n",
        "  for i in item:\n",
        "    while (i == 0):\n",
        "      i = 8\n",
        "      area.append(i)\n",
        "  break\n",
        "\n",
        "area_km = (sum(area) / 1000)\n",
        "area_ha = (area_km * 100)\n",
        "print ('Área estimada em km²: ',area_km)\n",
        "print ('Área estimada em hectares: ',area_ha)"
      ],
      "metadata": {
        "id": "d7BpYTV5LJfR"
      },
      "id": "d7BpYTV5LJfR",
      "execution_count": null,
      "outputs": []
    }
  ],
  "metadata": {
    "kernelspec": {
      "display_name": "geospatial",
      "language": "python",
      "name": "geospatial"
    },
    "language_info": {
      "codemirror_mode": {
        "name": "ipython",
        "version": 3
      },
      "file_extension": ".py",
      "mimetype": "text/x-python",
      "name": "python",
      "nbconvert_exporter": "python",
      "pygments_lexer": "ipython3",
      "version": "3.9.12"
    },
    "colab": {
      "name": "projeto_firescar_inpe.ipynb",
      "provenance": [],
      "include_colab_link": true
    }
  },
  "nbformat": 4,
  "nbformat_minor": 5
}