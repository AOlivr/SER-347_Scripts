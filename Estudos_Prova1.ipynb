{
  "nbformat": 4,
  "nbformat_minor": 0,
  "metadata": {
    "colab": {
      "name": "Estudos_Prova1",
      "provenance": [],
      "authorship_tag": "ABX9TyOFxm9J1Klhp2Fjby1+7fhc",
      "include_colab_link": true
    },
    "kernelspec": {
      "name": "python3",
      "display_name": "Python 3"
    },
    "language_info": {
      "name": "python"
    }
  },
  "cells": [
    {
      "cell_type": "markdown",
      "metadata": {
        "id": "view-in-github",
        "colab_type": "text"
      },
      "source": [
        "<a href=\"https://colab.research.google.com/github/AOlivr/SER-347_Scripts/blob/main/Estudos_Prova1.ipynb\" target=\"_parent\"><img src=\"https://colab.research.google.com/assets/colab-badge.svg\" alt=\"Open In Colab\"/></a>"
      ]
    },
    {
      "cell_type": "code",
      "execution_count": null,
      "metadata": {
        "id": "uTBaCjyifO_l"
      },
      "outputs": [],
      "source": [
        "#Tabuada\n",
        "for linha in range (1, 11):                     #para cada linha que vai de 0 a 10\n",
        "  for coluna in range(1,11):                    #para cada coluna que vai de 0 10\n",
        "    resultado = linha*coluna                    #multiplica o valor da linha por todos os valores da coluna\n",
        "    print (linha, 'x', coluna, '=', resultado)  #exibe a linha, a coluna e a multiplicação"
      ]
    },
    {
      "cell_type": "code",
      "source": [
        "teste1 = [1, 2, 3, 4, 5] #para cada um dos valores da lista\n",
        "teste2 = [10+x for x in teste1] #soma-se 10 para cada valor da lista 'teste1'\n",
        "print (teste2)"
      ],
      "metadata": {
        "id": "nERyY1C9hTrk"
      },
      "execution_count": null,
      "outputs": []
    },
    {
      "cell_type": "code",
      "source": [
        "#TRAÇAR RETA COM A FUNÇÃO AX+BY+C -> 3X + -2Y + -6\n",
        "a = 3 #o A vale 3\n",
        "b = -2 #o B vale -2\n",
        "c = -6 # o C vale -6\n",
        "x =float (input('x = '))\n",
        "y =float (input('y = '))\n",
        "resultado = (a*x) + (b*y) + c\n",
        "print(resultado)\n",
        "Ex. \tx = 20\n",
        "y = 30\n",
        "-6.0"
      ],
      "metadata": {
        "id": "X4BXZSxJi2zC"
      },
      "execution_count": null,
      "outputs": []
    },
    {
      "cell_type": "code",
      "source": [
        "#PERGUNTAR SE O ANO É BISSEXTO E INFORMAR TRUE OU FALSO\n",
        "ano = int(input('Ano: '))\n",
        "bissexto = (ano%4==0) and (ano%100!=0) or (ano%400==0)\n",
        "print ('O ano', ano, 'é bissexto?', bissexto)"
      ],
      "metadata": {
        "id": "cIfgc7SwmuE2"
      },
      "execution_count": null,
      "outputs": []
    },
    {
      "cell_type": "code",
      "source": [
        "#PERGUNTAR SE O ANO É BISSEXTO - IF\n",
        "ano = int(input('Ano: '))\n",
        "if (ano % 400 == 0):\n",
        "  print('É bissexto')\n",
        "elif (ano % 100 == 0):\n",
        "  print ('Não é bissexto')\n",
        "elif (ano % 4 == 0):\n",
        "  print ('É bissexto')\n",
        "else:\n",
        "  print('Não é bissexto')\n",
        "print ('Fim!')"
      ],
      "metadata": {
        "id": "Cfah1mA3mxdn"
      },
      "execution_count": null,
      "outputs": []
    },
    {
      "cell_type": "code",
      "source": [
        "#EXEMPLO NDVI - IF\n",
        "ndvi = float(input('NDVI: '))\n",
        "if (ndvi > 0.3) and (ndvi < 0.8):\n",
        "  print('Vegetação densa')\n",
        "print ('NDVI: ', ndvi)"
      ],
      "metadata": {
        "id": "I2zeFjZqnAf3"
      },
      "execution_count": null,
      "outputs": []
    },
    {
      "cell_type": "code",
      "source": [
        "#EXEMPLO NDVI - IF\n",
        "ndvi = float(input('NDVI: '))\n",
        "if (ndvi > 0.3) and (ndvi < 0.8):\n",
        "  print('Vegetação Densa!')\n",
        "else:\n",
        "  print('Pouca Vegetação!')\n",
        "print('NDVI: ', ndvi)\n",
        "Ex. \tNDVI: 0.3\n",
        "Pouca Vegetação!\n",
        "NDVI:  0.3"
      ],
      "metadata": {
        "id": "gxu2jovPnOCM"
      },
      "execution_count": null,
      "outputs": []
    },
    {
      "cell_type": "code",
      "source": [
        "#JOGO DA VELHA\n",
        "linha1 = ['-', '-', '-']\n",
        "linha2 = ['-', '-', '-']\n",
        "linha3 = ['-', '-', '-']\n",
        "\n",
        "count = 1\n",
        "\n",
        "while (count <= 4):\n",
        "  jogada1 = int(input('Informe a linha em que deseja marcar um X: '))\n",
        "  jogada2 = int(input('Informe a coluna em que deseja marcar um X: '))\n",
        "  if (jogada1 == 1):\n",
        "    linha1 [jogada2-1] = 'X'\n",
        "    print (linha1)\n",
        "    print (linha2)\n",
        "    print (linha3)\n",
        "    if (linha1 == ['X', 'X', 'X']) or (linha2 == ['X', 'X', 'X']) or (linha3 == ['X', 'X', 'X']):\n",
        "      print ('O jogo acabou e o jogador 1 venceu!')\n",
        "      break\n",
        "    elif (linha1 [0] == 'X') and (linha2 [0] == 'X') and (linha3 [0] == 'X') or (linha1 [1] == 'X') and (linha2 [1] == 'X') and (linha3 [1] == 'X') \\\n",
        "    or (linha1 [2] == 'X') and (linha2 [2] == 'X') and (linha3 [2] == 'X') or (linha1 [0] == 'X') and (linha2 [1] == 'X') and (linha3 [2] == 'X') or (linha1 [2] == 'X') and (linha2 [1] == 'X') and (linha3 [0] == 'X'):\n",
        "      print ('O jogo acabou e o jogador 1 venceu')\n",
        "      break\n",
        "  elif (jogada1 == 2):\n",
        "    linha2 [jogada2-1] = 'X'\n",
        "    print (linha1)\n",
        "    print (linha2)\n",
        "    print (linha3)\n",
        "    if (linha1 == ['X', 'X', 'X']) or (linha2 == ['X', 'X', 'X']) or (linha3 == ['X', 'X', 'X']):\n",
        "      print ('O jogo acabou e o jogador 1 venceu!')\n",
        "      break\n",
        "    elif (linha1 [0] == 'X') and (linha2 [0] == 'X') and (linha3 [0] == 'X') or (linha1 [1] == 'X') and (linha2 [1] == 'X') and (linha3 [1] == 'X') \\\n",
        "    or (linha1 [2] == 'X') and (linha2 [2] == 'X') and (linha3 [2] == 'X') or (linha1 [0] == 'X') and (linha2 [1] == 'X') and (linha3 [2] == 'X') or (linha1 [2] == 'X') and (linha2 [1] == 'X') and (linha3 [0] == 'X'):\n",
        "      print ('O jogo acabou e o jogador 1 venceu')\n",
        "      break\n",
        "  elif (jogada1 == 3):\n",
        "    linha3 [jogada2-1] = 'X'\n",
        "    print (linha1)\n",
        "    print (linha2)\n",
        "    print (linha3)\n",
        "    if (linha1 == ['X', 'X', 'X']) or (linha2 == ['X', 'X', 'X']) or (linha3 == ['X', 'X', 'X']):\n",
        "      print ('O jogo acabou e o jogador 1 venceu!')\n",
        "      break\n",
        "    elif (linha1 [0] == 'X') and (linha2 [0] == 'X') and (linha3 [0] == 'X') or (linha1 [1] == 'X') and (linha2 [1] == 'X') and (linha3 [1] == 'X') \\\n",
        "    or (linha1 [2] == 'X') and (linha2 [2] == 'X') and (linha3 [2] == 'X') or (linha1 [0] == 'X') and (linha2 [1] == 'X') and (linha3 [2] == 'X') or (linha1 [2] == 'X') and (linha2 [1] == 'X') and (linha3 [0] == 'X'):\n",
        "      print ('O jogo acabou e o jogador 1 venceu')\n",
        "      break\n",
        "\n",
        "  jogada3 = int(input('Informe a linha em que deseja marcar um O: '))\n",
        "  jogada4 = int(input('Informe a coluna em que deseja marcar um O: '))\n",
        "  if (jogada3 == 1):\n",
        "    linha1 [jogada4-1] = 'O'\n",
        "    print (linha1)\n",
        "    print (linha2)\n",
        "    print (linha3)\n",
        "    if (linha1 == ['O', 'O', 'O']) or (linha2 == ['O', 'O', 'O']) or (linha3 == ['O', 'O', 'O']):\n",
        "      print ('O jogo acabou e o jogador 2 venceu!')\n",
        "      break\n",
        "    elif (linha1 [0] == 'O') and (linha2 [0] == 'O') and (linha3 [0] == 'O') or (linha1 [1] == 'O') and (linha2 [1] == 'O') and (linha3 [1] == 'O') \\\n",
        "    or (linha1 [2] == 'O') and (linha2 [2] == 'O') and (linha3 [2] == 'O') or (linha1 [0] == 'O') and (linha2 [1] == 'O') and (linha3 [2] == 'O') or (linha1 [2] == 'O') and (linha2 [1] == 'O') and (linha3 [0] == 'O'):\n",
        "      print ('O jogo acabou e o jogador 2 venceu')\n",
        "      break\n",
        "  elif (jogada3 == 2):\n",
        "    linha2 [jogada4-1] = 'O'\n",
        "    print (linha1)\n",
        "    print (linha2)\n",
        "    print (linha3)\n",
        "    if (linha1 == ['O', 'O', 'O']) or (linha2 == ['O', 'O', 'O']) or (linha3 == ['O', 'O', 'O']):\n",
        "      print ('O jogo acabou e o jogador 2 venceu!')\n",
        "      break\n",
        "    elif (linha1 [0] == 'O') and (linha2 [0] == 'O') and (linha3 [0] == 'O') or (linha1 [1] == 'O') and (linha2 [1] == 'O') and (linha3 [1] == 'O') \\\n",
        "    or (linha1 [2] == 'O') and (linha2 [2] == 'O') and (linha3 [2] == 'O') or (linha1 [0] == 'O') and (linha2 [1] == 'O') and (linha3 [2] == 'O') or (linha1 [2] == 'O') and (linha2 [1] == 'O') and (linha3 [0] == 'O'):\n",
        "      print ('O jogo acabou e o jogador 2 venceu')\n",
        "      break\n",
        "  elif (jogada3 == 3):\n",
        "    linha3 [jogada4-1] = 'O'\n",
        "    print (linha1)\n",
        "    print (linha2)\n",
        "    print (linha3)\n",
        "    if (linha1 == ['O', 'O', 'O']) or (linha2 == ['O', 'O', 'O']) or (linha3 == ['O', 'O', 'O']):\n",
        "      print ('O jogo acabou e o jogador 2 venceu!')\n",
        "      break\n",
        "    elif (linha1 [0] == 'O') and (linha2 [0] == 'O') and (linha3 [0] == 'O') or (linha1 [1] == 'O') and (linha2 [1] == 'O') and (linha3 [1] == 'O') \\\n",
        "    or (linha1 [2] == 'O') and (linha2 [2] == 'O') and (linha3 [2] == 'O') or (linha1 [0] == 'O') and (linha2 [1] == 'O') and (linha3 [2] == 'O') or (linha1 [2] == 'O') and (linha2 [1] == 'O') and (linha3 [0] == 'O'):\n",
        "      print ('O jogo acabou e o jogador 2 venceu')\n",
        "      break\n",
        "\n",
        "  count = count+1\n",
        "\n",
        "print ('O jogo empatou!')"
      ],
      "metadata": {
        "id": "bNaHPwvQohZo"
      },
      "execution_count": null,
      "outputs": []
    },
    {
      "cell_type": "code",
      "source": [
        "#1-Faça um programa que mostre a mensagem \"Olá, mundo!\" na tela\n",
        "\n",
        "'Olá, mundo!'"
      ],
      "metadata": {
        "id": "zMxNlpUPD56m"
      },
      "execution_count": null,
      "outputs": []
    },
    {
      "cell_type": "code",
      "source": [
        "#2-Faça um programa que peça um número e então mostre na mensagem que O número informado foi um número\n",
        "nroex2 = float(input('Digite o nro: '))\n",
        "if (type(nroex2) != float):\n",
        "  print ('O dígito não é um número: ')\n",
        "elif (type(nroex2) == float):\n",
        "  print ('O dígito é um número e seu valor é', nroex2)"
      ],
      "metadata": {
        "colab": {
          "base_uri": "https://localhost:8080/"
        },
        "id": "ovdXqFNtEEyU",
        "outputId": "682c4c9f-4259-4ae4-c0c6-5de646c21b27"
      },
      "execution_count": null,
      "outputs": [
        {
          "output_type": "stream",
          "name": "stdout",
          "text": [
            "Digite o nro: 3.1\n",
            "O dígito é um número e seu valor é 3.1\n"
          ]
        }
      ]
    },
    {
      "cell_type": "code",
      "source": [
        "#3-Faça um Programa que peça dois números e imprima a soma\n",
        "nroex4 = float(input('Informe o primeiro número da soma: '))\n",
        "nroex5 = float(input('Informe o primeiro número da soma: '))\n",
        "print (nroex4 + nroex5)"
      ],
      "metadata": {
        "id": "9nH76RHgF7so"
      },
      "execution_count": null,
      "outputs": []
    },
    {
      "cell_type": "code",
      "source": [
        "#4-Faça um programa que peça 4 notas bimestrais e mostre a média\n",
        "nota1 = float(input('Informe a primeira nota: '))\n",
        "nota2 = float(input('Informe a segundo nota: '))\n",
        "nota3 = float(input('Informe a terceiraa nota: '))\n",
        "nota4 = float(input('Informe a quarta nota: '))\n",
        "media = ((nota1 + nota2 + nota3 + nota4) / 4)\n",
        "print (f'A sua média é {media}')"
      ],
      "metadata": {
        "id": "fM-Lg4e6Gnsu"
      },
      "execution_count": null,
      "outputs": []
    },
    {
      "cell_type": "code",
      "source": [
        "#5-Faça um programa que converta metros para centímetros\n",
        "metros = float(input('Informe a medida em metros (m): '))\n",
        "centrimentos = (metros*100)\n",
        "print (f'Metros: {metros}m -> Centímetros: {centrimentos}cm')"
      ],
      "metadata": {
        "id": "f_mbo1gDHY0y"
      },
      "execution_count": null,
      "outputs": []
    },
    {
      "cell_type": "code",
      "source": [
        "#6-Faça um programa que peça o raio de um círculo, calcule e mostre sua área\n",
        "import math\n",
        "raio = float(input('Informe o raio do círculo em centrimentos: '))\n",
        "area = math.pi * (raio**2)\n",
        "print (area,'cm²')"
      ],
      "metadata": {
        "id": "17LuaBlBH9iI"
      },
      "execution_count": null,
      "outputs": []
    },
    {
      "cell_type": "code",
      "source": [
        "#7-Faça um programa que calcule a área de um quadrado, em seguida mostre o dobro desta área para o usuário\n",
        "quadrado = float(input('Informe o lado do quadrado em cm: '))\n",
        "quadradoarea = quadrado**2\n",
        "dobro = quadradoarea*2\n",
        "print (f'O lado do quadrado é {quadrado}cm, a área quadrada é {quadradoarea}cm² e o dobreo é {dobro}cm²')"
      ],
      "metadata": {
        "id": "F2tqyJ4VIuH-"
      },
      "execution_count": null,
      "outputs": []
    },
    {
      "cell_type": "code",
      "source": [
        "#8-Faça um programa que pergunte quanto você ganha por hora e o número de horas trabalhadas no mês e que calcule e mostre o total do seu salário\n",
        "horaganha = float(input('Informe quanta você ganha por hora (R$): '))\n",
        "horastrabalhadas = int(input('Informe quantas horas você trabalhou no mês de interesse: '))\n",
        "salario = horaganha * horastrabalhadas\n",
        "print (f'Ganhando R${horaganha} por hora, e trabalhando o total de {horastrabalhadas}h, seu salário é de: R${salario}')\n"
      ],
      "metadata": {
        "id": "FJ-ys5HCJzxR"
      },
      "execution_count": null,
      "outputs": []
    },
    {
      "cell_type": "code",
      "source": [
        "#9-Faça um programa que peça a temperatura em graus Fahrenheit, transforme e mostre a temperatura em graus Celsius (C = 5 * ((F-32) / 9))\n",
        "grausf = float(input('Informe a temperatura em Fahrenheit: '))\n",
        "grausc = (5 * (grausf-32) / 9)\n",
        "print (f'Graus Fahrenheit: {grausf}F -> Graus Celsius {grausc}ºC')"
      ],
      "metadata": {
        "id": "CDbjZiRkK2_i"
      },
      "execution_count": null,
      "outputs": []
    },
    {
      "cell_type": "code",
      "source": [
        "#10-Faça um programa que peça a temperatura em graus Celsius, transforme e mostre em graus Fahrenheit\n",
        "grauscelsius = float(input('Informe a temperatura em graus celsius (ºC): '))\n",
        "grausfahrenheit = (grauscelsius * 2) + 30\n",
        "print (f'Graus Celsius: {grauscelsius}ºC -> Graus Fahrenheit: {grausfahrenheit}F')"
      ],
      "metadata": {
        "id": "eyRDom-qLig_"
      },
      "execution_count": null,
      "outputs": []
    },
    {
      "cell_type": "code",
      "source": [
        "#11-Faça um programa que peça 2 números inteiros e um número real. Calcule e mostre:\n",
        "#o produto do dobro do primeiro com metade do segundo.\n",
        "#a soma do triplo do primeiro com o terceiro.\n",
        "#o terceiro elevado ao cubo.\n",
        "int1 = int(input('Informe o primeiro número inteiro: '))\n",
        "int2 = int(input('Informe o segundo número inteiro: '))\n",
        "real = float(input('Informe o número real: '))\n",
        "\n",
        "a = float((int1*2) + (int2/2))\n",
        "b = float((int1*3) + real)\n",
        "c = real ** 3\n",
        "\n",
        "print (f'a = {a}, b = {b}, c = {c}')"
      ],
      "metadata": {
        "id": "-668uE7EM7Zq"
      },
      "execution_count": null,
      "outputs": []
    },
    {
      "cell_type": "code",
      "source": [
        "#12-Tendo como dados de entrada a altura de uma pessoa, construa um algoritmo que calcule seu peso ideal, usando a seguinte fórmula: (72.7*altura) - 58\n",
        "altura = float (input('Informe a sua altura: '))\n",
        "print (f'A sua altura é {altura}, e o seu peso ideal é: {((72.7*altura)-58)}')"
      ],
      "metadata": {
        "id": "-gjxAPcmON6D"
      },
      "execution_count": null,
      "outputs": []
    },
    {
      "cell_type": "code",
      "source": [
        "#13-Tendo como dado de entrada a altura (h) de uma pessoa, construa um algoritmo que calcule seu peso ideal, utilizando as seguintes fórmulas:\n",
        "#Para homens: (72.7*h) - 58\n",
        "#Para mulheres: (62.1*h) - 44.7\n",
        "genero = input('Você é homem ou mulher? ')\n",
        "alt = float (input('Informe a sua altura: '))\n",
        "if (genero == 'homem'):\n",
        "  pesohomem = (72.7*alt) - 58\n",
        "  print ('Seu peso ideal é: ', pesohomem)\n",
        "elif (genero == 'mulher'):\n",
        "  pesomulher = (62.1*alt) - 44.7\n",
        "  print ('Seu peso ideal é: ', pesomulher)"
      ],
      "metadata": {
        "id": "nBy4_vCrOyEP"
      },
      "execution_count": null,
      "outputs": []
    },
    {
      "cell_type": "code",
      "source": [
        "#14-João Papo-de-Pescador, homem de bem, comprou um microcomputador para \n",
        "#controlar o rendimento diário de seu trabalho. Toda vez que ele traz um peso de peixes maior que o estabelecido pelo regulamento de pesca do estado \n",
        "#de São Paulo (50 quilos) deve pagar uma multa de R$ 4,00 por quilo excedente. João precisa que você faça um programa que leia a variável peso (peso de peixes)\n",
        "#e calcule o excesso. Gravar na variável excesso a quantidade de quilos além do \n",
        "#limite e na variável multa o valor da multa que João deverá pagar. Imprima os dados do programa com as mensagens adequadas.\n",
        "peso = float(input('Informe o peso em kg: '))\n",
        "if (peso > 50):\n",
        "  excesso = peso - 50\n",
        "  multa = excesso * 4\n",
        "  print (f'Houve sobrepeso de {excesso}kg, e a multa estipulada é de R${multa}')\n",
        "else:\n",
        "  print ('Não houve sobrepeso, portanto, não há multa')"
      ],
      "metadata": {
        "id": "Y9Cb3I-2P_VO"
      },
      "execution_count": null,
      "outputs": []
    },
    {
      "cell_type": "code",
      "source": [
        "#15-Faça um programa para uma loja de tintas. O programa deverá pedir o tamanho em metros quadrados da área a ser pintada. Considere que a cobertura da tinta é de 1 litro para cada 3 metros \n",
        "#quadrados e que a tinta é vendida em latas de 18 litros, que custam R$ 80,00. Informe ao usuário a quantidades de latas de tinta a serem compradas e o preço total.\n",
        "areapintada = float(input('Informe a área total em m² a ser pintada: '))\n",
        "tintalitros = areapintada / 3\n",
        "tintapreco = tintalitros * 80\n",
        "print (f'Para a área de {areapintada}m² são necessários {tintalitros}l de tinta que totalizam R${tintapreco}, pois o preço do litro é R$80.00')"
      ],
      "metadata": {
        "id": "C_beYhHtRT4B"
      },
      "execution_count": null,
      "outputs": []
    },
    {
      "cell_type": "code",
      "source": [
        "#16-Faça um programa que peça o tamanho de um arquivo para download (em MB) e a velocidade \n",
        "#de um link de Internet (em Mbps), calcule e informe o tempo aproximado de download do arquivo usando este link (em minutos)\n",
        "sizefile = float(input('Informe o tamanho do arquivo em MB: '))\n",
        "conexao = float(input('Informe a velocidade da sua internet em Mbps: '))\n",
        "print (f'Para fazer o download, serão necessários {(sizefile/conexao)}s')"
      ],
      "metadata": {
        "id": "YzH1HY-NSznf"
      },
      "execution_count": null,
      "outputs": []
    },
    {
      "cell_type": "code",
      "source": [
        "#1-Faça um programa que peça dois números e imprima o maior deles.\n",
        "number01 = float(input('Informe o primeiro número: '))\n",
        "number02 = float(input('Informe o segundo número: '))\n",
        "if (number01 > number02):\n",
        "  print ('O primeiro número', number01, 'é maior do que o segundo número', number02)\n",
        "elif (number01 < number02):\n",
        "  print ('O primeiro número', number01, 'é menor do que o segundo número', number02)\n",
        "else:\n",
        "  print ('O primeiro número', number01, 'e o segundo número', number02, 'são iguais')"
      ],
      "metadata": {
        "id": "VuLy1pelT9zT"
      },
      "execution_count": null,
      "outputs": []
    },
    {
      "cell_type": "code",
      "source": [
        "#2-Faça um programa que peça um valor e mostre na tela se o valor é positivo ou negativo.\n",
        "valor1 = float(input('Informe qualquer valor: '))\n",
        "if (valor1 < 0):\n",
        "  print (f'O valor {valor1} é negativo!')\n",
        "else:\n",
        "  print (f'O valor {valor1} é positivo!')"
      ],
      "metadata": {
        "id": "p3LUOiQRU5hS"
      },
      "execution_count": null,
      "outputs": []
    },
    {
      "cell_type": "code",
      "source": [
        "#3-Faça um programa que verifique se uma letra digitada é \"F\" ou \"M\". Conforme a letra, escrever: F - Feminino, M - Masculino, Sexo Inválido.\n",
        "sexo = str(input('Informe o gênero (F, para feminino, ou M, para masculino: '))\n",
        "if (sexo == 'M'):\n",
        "  print ('M - Masculino')\n",
        "elif (sexo == 'F'):\n",
        "  print ('F - Feminino')\n",
        "else :\n",
        "  print ('Ocorreu um erro')"
      ],
      "metadata": {
        "id": "oIY1EmtjVm_n"
      },
      "execution_count": null,
      "outputs": []
    },
    {
      "cell_type": "code",
      "source": [
        "#4-Faça um programa que verifique se uma letra digitada é vogal ou consoante.\n",
        "listavogais = ['a', 'e', 'i', 'o', 'u']\n",
        "letra = input('Digite a letra: ')\n",
        "if (letra not in listavogais):\n",
        "  print ('A letra', letra, 'é uma consoante')\n",
        "else:\n",
        "  print ('A letra', letra, 'é uma vogal')"
      ],
      "metadata": {
        "id": "ZhlAAE51gL15"
      },
      "execution_count": null,
      "outputs": []
    },
    {
      "cell_type": "code",
      "source": [
        "#5-Faça um programa para a leitura de duas notas parciais de um aluno. O programa deve calcular a média alcançada por aluno e apresentar:\n",
        "#A mensagem \"Aprovado\", se a média alcançada for maior ou igual a sete;\n",
        "#A mensagem \"Reprovado\", se a média for menor do que sete;\n",
        "#A mensagem \"Aprovado com Distinção\", se a média for igual a dez.\n",
        "\n",
        "nota1 = float(input('Informe a primeira nota: '))\n",
        "nota2 = float(input('Informe a segunda nota: '))\n",
        "media = float((nota1 + nota2) / 2)\n",
        "if (media == 10):\n",
        "  print ('Aprovado com distinção!')\n",
        "elif (media >= 7) and (media < 10):\n",
        "  print( 'Aprovado!')\n",
        "else:\n",
        "  print ('reprovado')"
      ],
      "metadata": {
        "id": "LRZjh2Khg7dZ"
      },
      "execution_count": null,
      "outputs": []
    },
    {
      "cell_type": "code",
      "source": [
        "#6-Faça um programa que leia três números e mostre o maior deles.\n",
        "numero1 = float(input('Informe o primeiro número: '))\n",
        "numero2 = float(input('Informe o segundo número: '))\n",
        "numero3 = float(input('Informe o terceiro número: '))\n",
        "if (numero1 > numero2 and numero1 > numero3 and numero2 > numero3):\n",
        "  print (numero1, numero2, numero3)\n",
        "elif (numero1 < numero2 and numero1 < numero3 and numero2 < numero3):\n",
        "  print (numero3, numero2, numero1)\n",
        "elif (numero1 > numero2 and numero1 > numero3 and numero2 < numero3):\n",
        "  print (numero1, numero3, numero2)\n",
        "elif (numero1 < numero2 and numero1 > numero3 and numero2 > numero3):\n",
        "  print (numero2, numero1, numero3)\n",
        "elif (numero1 < numero2 and numero1 < numero3 and numero2 > numero3):\n",
        "  print (numero2, numero3, numero1)\n",
        "elif (numero1 > numero2 and numero1 < numero3 and numero2 < numero3):\n",
        "  print (numero3, numero1, numero2)\n",
        "elif (numero1 < numero2 and numero1 < numero3 and numero2 < numero3):\n",
        "  print (numero3, numero2, numero1)"
      ],
      "metadata": {
        "id": "DpR6DyhjiR0e"
      },
      "execution_count": null,
      "outputs": []
    },
    {
      "cell_type": "code",
      "source": [
        "#7-Faça um programa que leia três números e mostre o maior e o menor deles.\n",
        "num1 = float(input('Informe o primeiro número: '))\n",
        "num2 = float(input('Informe o segundo número: '))\n",
        "num3 = float(input('Informe o terceiro número: '))\n",
        "if (num1 > num2 and num1 > num3 and num2 > num3):\n",
        "  print ('Maior: ', num1, 'Menor: ', num3)\n",
        "elif (num1 < num2 and numero1 < numero3 and numero2 < numero3):\n",
        "  print ('Maior: ', num3, 'Menor: ',  num1)\n",
        "elif (num1 > num2 and num1 > num3 and num2 < num3):\n",
        "  print ('Maior: ', num1, 'Menor: ',  num2)\n",
        "elif (num1 < num2 and num1 > num3 and num2 > num3):\n",
        "  print ('Maior: ', num2, 'Menor: ',  num3)\n",
        "elif (num1 < num2 and num1 < num3 and num2 > num3):\n",
        "  print ('Maior: ', num2, 'Menor: ',  num1)\n",
        "elif (num1 > num2 and num1 < num3 and num2 < num3):\n",
        "  print ('Maior: ', num3, 'Menor: ',  num2)\n",
        "elif (num1 < num2 and num1 < num3 and num2 < num3):\n",
        "  print ('Maior: ', num3, 'Menor: ',  num1)"
      ],
      "metadata": {
        "id": "bYPXpMPmlSHe"
      },
      "execution_count": null,
      "outputs": []
    },
    {
      "cell_type": "code",
      "source": [
        "#8-Faça um programa que pergunte o preço de três produtos e informe qual produto você deve comprar, sabendo que a decisão é sempre pelo mais barato.\n",
        "prod1 = float(input('Informe o preço do primeiro produto: '))\n",
        "prod2 = float(input('Informe o preço do segundo produto: '))\n",
        "prod3 = float(input('Informe o preço do terceiro produto: '))\n",
        "if (prod1 < prod2) and (prod1 < prod3):\n",
        "  print ('O produto mais barato é o que custa R$',prod1, 'sendo esse o produto 1')\n",
        "elif (prod1 > prod2) and (prod2 < prod3):\n",
        "  print ('O produto mais barato é o que custa R$',prod2, 'sendo esse o produto 2')\n",
        "elif (prod1 > prod3) and (prod3 < prod2):\n",
        "  print ('O produto mais barato é o que custa R$',prod3, 'sendo esse o produto 3')"
      ],
      "metadata": {
        "id": "m4ZORbTomaLh"
      },
      "execution_count": null,
      "outputs": []
    },
    {
      "cell_type": "code",
      "source": [
        "#9-Faça um programa que leia três números e mostre-os em ordem decrescente.\n",
        "ordem1 = float(input('Informe o primeiro número: '))\n",
        "ordem2 = float(input('Informe o segundo número: '))\n",
        "ordem3 = float(input('Informe o terceiro número: '))\n",
        "if (ordem1 > ordem2) and (ordem1 > ordem3) and (ordem2 > ordem3):\n",
        "  print (ordem3, ordem2, ordem1)\n",
        "elif (ordem1 < ordem2) and (ordem1 < ordem3) and (ordem2 < ordem3):\n",
        "  print (ordem1, ordem2, ordem3)\n",
        "elif (ordem1 < ordem2) and (ordem1 > ordem3) and (ordem2 > ordem3):\n",
        "  print (ordem3, ordem1, ordem2)\n",
        "elif (ordem1 < ordem2) and (ordem1 < ordem3) and (ordem2 > ordem3):\n",
        "  print (ordem1, ordem3, ordem2)\n",
        "elif (ordem1 > ordem2) and (ordem1 < ordem3) and (ordem2 < ordem3):\n",
        "  print (ordem2, ordem1, ordem3)\n",
        "elif (ordem1 > ordem2) and (ordem1 > ordem3) and (ordem2 < ordem3):\n",
        "  print (ordem2, ordem3, ordem1)"
      ],
      "metadata": {
        "id": "trRJ6lTsoNOM"
      },
      "execution_count": null,
      "outputs": []
    },
    {
      "cell_type": "code",
      "source": [
        "#1-Faça um programa que peça uma nota, entre zero e dez. Mostre uma mensagem caso o valor seja inválido e continue pedindo até que o usuário informe um valor válido\n",
        "not1 = float(input('Informe a nota (entre 0 e 10): '))\n",
        "continuar = ('y')\n",
        "\n",
        "while (continuar == 'y'):\n",
        "  if (not1 >= 0) and (not1 <= 10):\n",
        "    print (f'Você digitou: {not1}')\n",
        "    continuar = input('Você deseja continuar (y/n)? ')\n",
        "    if (continuar == 'y'):\n",
        "      not1 = float(input('Informe a nota (entre 0 e 10): '))\n",
        "      continue\n",
        "  else:\n",
        "    print (f'Você digitou uma nota inválida: {not1}')\n",
        "    continuar = input('Você deseja continuar (y/n)? ')"
      ],
      "metadata": {
        "id": "QJpG7AwSzRc5"
      },
      "execution_count": null,
      "outputs": []
    },
    {
      "cell_type": "code",
      "source": [
        "#2-Faça um programa que leia um nome de usuário e a sua senha e não aceite a senha igual ao nome do usuário, mostrando uma mensagem de erro e voltando a pedir as informações.\n",
        "\n",
        "import getpass\n",
        "user = input('Informe o usuário: ')\n",
        "senha = getpass.getpass(prompt='Informe a senha alfabética: ')\n",
        "\n",
        "while (user == senha):\n",
        "  print ('Por favor, a senha deve ser diferente do nome do usuário!')\n",
        "  user = input('Informe o usuário: ')\n",
        "  senha = getpass.getpass(prompt='Informe a senha alfabética: ')\n",
        "  continue\n",
        "\n",
        "print ('Parabéns, seu cadastro foi realizado com sucesso')"
      ],
      "metadata": {
        "id": "8VK3O9Q5vAIn"
      },
      "execution_count": null,
      "outputs": []
    },
    {
      "cell_type": "code",
      "source": [
        "#3-Faça um programa que leia e valide as seguintes informações:\n",
        "#Nome: maior que 3 caracteres;\n",
        "#Idade: entre 0 e 150;\n",
        "#Salário: maior que zero;\n",
        "#Sexo: 'F' ou 'M';\n",
        "#Estado Civil: 'S', 'C', 'V', 'D';\n",
        "name1 = input('Informe o nome (>3 caracteres): ')\n",
        "while (len(name1) < 3):\n",
        "  print ('Por favor, informe três ou mais caracteres')\n",
        "  name1 = input('Informe o nome (>3 caracteres): ')\n",
        "  if (len(name1) >= 3):\n",
        "    break\n",
        "  else:\n",
        "    continue\n",
        "age1 = int(input('Informe a idade: '))\n",
        "while (age1 <= 0 or age1 >= 150):\n",
        "  print ('Por favor, digite uma idade válida')\n",
        "  age1 = int(input('Informe a idade: '))\n",
        "  if (age1 > 0 or age1 < 150):\n",
        "    break\n",
        "  else:\n",
        "    continue\n",
        "salary1 = int(input('Informe o salário: '))\n",
        "while (salary1 <= 0):\n",
        "  print ('Por favor, o salário é obrigatório')\n",
        "  salary1 = int(input('Informe o salário: '))\n",
        "  if (salary1 > 0):\n",
        "    break\n",
        "  else:\n",
        "    continue\n",
        "gender1 = input('Informe o gênero (F/M): ')\n",
        "while (gender1 != 'F' or gender1 != 'M'):\n",
        "  print ('Por favor, informe F, para feminino, ou M, para masculino')\n",
        "  gender1 = input('Informe o gênero (F/M): ')\n",
        "  if (gender1 == 'F' or gender1 == 'M'):\n",
        "    break\n",
        "  else:\n",
        "    continue\n",
        "civil1 = input('Informe o estado civil (S - solteiro, C - casado, V - viuúvo, D - desquitidado): ')\n",
        "while (civil1 != 'S' or civil1 != 'C' or civil1 != 'V' or civil1 != 'D'):\n",
        "  print ('Por favor, informe um estado civil válido')\n",
        "  civil1 = input('Informe o estado civil (S - solteiro, C - casado, V - viúvo, D - desquitidado): ')\n",
        "  if (civil1 == 'S' or civil1 == 'C' or civil1 == 'V' or civil1 == 'D'):\n",
        "    break\n",
        "  else:\n",
        "    continue\n",
        "print ('Nome: ', name1)\n",
        "print ('Idade: ', age1)\n",
        "print ('Salário: ', salary1)\n",
        "print ('Gênero: ', gender1)\n",
        "print ('Estado civil: ', civil1)"
      ],
      "metadata": {
        "id": "_YWeXbBuwEsz"
      },
      "execution_count": null,
      "outputs": []
    },
    {
      "cell_type": "code",
      "source": [
        "#4-Supondo que a população de um país A seja da ordem de 80000 habitantes com uma taxa anual de crescimento de 3% e que a população de B seja 200000 habitantes \n",
        "#com uma taxa de crescimento de 1.5%. Faça um programa que calcule e escreva o número de anos necessários para que a população do país A ultrapasse ou iguale a \n",
        "#população do país B, mantidas as taxas de crescimento.\n",
        "\n",
        "country1 = int(input('Informe o nro de habitantes da cidade 1: '))\n",
        "taxacrescimento1 = float(input('Informe a taxa de crescimento da cidade 1: '))\n",
        "country2 = int(input('Informe o nro de habitantes da cidade2: '))\n",
        "taxacrescimento2 = float(input('Informe a taxa de crescimento da cidade 2: '))\n",
        "variacao = int(country1-country2)\n",
        "count = 0\n",
        "\n",
        "while (variacao < 0):\n",
        "  country1 = country1 + (country1 * taxacrescimento1)\n",
        "  country2 = country2 + (country2 * taxacrescimento2)\n",
        "  crescimento = (country1) - (country2)\n",
        "  variacao = crescimento\n",
        "  count = count + 1\n",
        "  print (variacao)\n",
        "  print (count)\n",
        "  print (country1)\n",
        "  print (country2)\n",
        "  if (variacao >= 0):\n",
        "    print (f'São necessários {count} anos para que a cidade 1 atinga a cidade 2 em número de habitantes')\n",
        "    break"
      ],
      "metadata": {
        "id": "IKIS9wpk2yVn"
      },
      "execution_count": null,
      "outputs": []
    },
    {
      "cell_type": "code",
      "source": [
        "#5-Faça um programa que imprima na tela os números de 1 a 20, um abaixo do outro. Depois modifique o programa para que ele mostre os números um ao lado do outro.\n",
        "\n",
        "lista1 = list(range(1, 10+1))\n",
        "print (lista1)\n",
        "for lista1 in range (1, 10+1):\n",
        "  print (lista1)"
      ],
      "metadata": {
        "id": "e6WP2w8QXOjl"
      },
      "execution_count": null,
      "outputs": []
    },
    {
      "cell_type": "code",
      "source": [
        "#6-Faça um programa que leia 5 números e informe o maior número.\n",
        "lista1 = [] #LISTA VAZIA\n",
        "counter = 1 #CONTADOR\n",
        "\n",
        "while (counter <= 5):\n",
        "  for i in range(1): #ADICIONA VALORES COM INPUT NA LISTA VAZIA\n",
        "    x1 = int(input(\"Enter Number:\")) #ADICIONAR N VALORES NA LISTA VAZIA\n",
        "    lista1.append(x1)\n",
        "    counter = counter + 1\n",
        "    print (lista1)\n",
        "    if (counter > 5):\n",
        "      print ('Acabou!')\n",
        "      break\n",
        "    else:\n",
        "      continue\n",
        "\n",
        "print (max(lista1)) #EXIBE O MAIOR VALOR DA LISTA"
      ],
      "metadata": {
        "id": "VQoD3YjPYg3Q"
      },
      "execution_count": null,
      "outputs": []
    },
    {
      "cell_type": "code",
      "source": [
        "#7-Faça um programa que leia 5 números e informe a soma e a média dos números\n",
        "lista2 = []\n",
        "counter = 1\n",
        "\n",
        "while (counter <= 5):\n",
        "  for i in range (1):\n",
        "    x2 = int(input(\"Enter Number:\"))\n",
        "    lista2.append(x2)\n",
        "    counter = counter + 1\n",
        "    if (counter > 5):\n",
        "      print ('Acabou!')\n",
        "      break\n",
        "    else:\n",
        "      continue\n",
        "\n",
        "print ('A soma dos valores é: ', sum(lista2))\n",
        "print ('A média dos valores é: ', sum(lista2) / len(lista2))\n"
      ],
      "metadata": {
        "id": "0W2MTtMCeuBW"
      },
      "execution_count": null,
      "outputs": []
    },
    {
      "cell_type": "code",
      "source": [
        "#8-Faça um programa que imprima na tela apenas os números ímpares entre 1 e 50.\n",
        "lista3 = list(range(1, 50+1)) #CRIANDO LISTA COM N VALORES\n",
        "for i in lista3: #PERCORRENDO LISTA\n",
        "  if (i % 2 != 0):\n",
        "    print (i)"
      ],
      "metadata": {
        "id": "QlwWxWQmf1dr"
      },
      "execution_count": null,
      "outputs": []
    },
    {
      "cell_type": "code",
      "source": [
        "#9-Faça um programa que receba dois números inteiros e gere os números inteiros que estão no intervalo compreendido por eles.\n",
        "nro1a = int(input('Informe o menor número: '))\n",
        "nro2a = int(input('Informe o maior número: '))\n",
        "contador = nro2a - nro1a\n",
        "while (contador != 0):\n",
        "  nro1a = nro1a + 1\n",
        "  print (nro1a)\n",
        "  contador = contador - 1"
      ],
      "metadata": {
        "id": "PWVY_ujHh_Gx"
      },
      "execution_count": null,
      "outputs": []
    },
    {
      "cell_type": "code",
      "source": [
        "#10-Altere o programa anterior para mostrar no final a soma dos números.\n",
        "nro1a = int(input('Informe o menor número: '))\n",
        "nro2a = int(input('Informe o maior número: '))\n",
        "contador = nro2a - nro1a\n",
        "lista4 = []\n",
        "while (contador != 0):\n",
        "  nro1a = nro1a + 1\n",
        "  print (nro1a)\n",
        "  contador = contador - 1\n",
        "  lista4.append(nro1a)\n",
        "print (lista4)\n",
        "print (sum(lista4))"
      ],
      "metadata": {
        "id": "9KcaOK2NkVs4"
      },
      "execution_count": null,
      "outputs": []
    },
    {
      "cell_type": "code",
      "source": [
        "#1-Faça um programa que leia um vetor de 5 números inteiros e mostre-os\n",
        "lista5 = list()\n",
        "cont1 = 1\n",
        "while (cont1 <= 5):\n",
        "  adicionanalista = int(input('Informe o número inteiro: '))\n",
        "  lista5.append(adicionanalista)\n",
        "  cont1 = cont1 + 1\n",
        "print (lista5)"
      ],
      "metadata": {
        "id": "2O8avVhsclZU"
      },
      "execution_count": null,
      "outputs": []
    },
    {
      "cell_type": "code",
      "source": [
        "#2-Faça um programa que leia um vetor de 10 números reais e mostre-os na ordem inversa\n",
        "lista6 = list()\n",
        "cont2 = 1\n",
        "while (cont2 <=10):\n",
        "  addnalista = float(input('Informe o número: '))\n",
        "  lista6.append(addnalista) #O APPEND ADICIONA DADOS NA LISTA\n",
        "  cont2 = cont2 + 1\n",
        "print (lista6[::-1]) #LÊ A LISTA DE TRÁS PARA FRENTE (ORDEM INVERSA)"
      ],
      "metadata": {
        "id": "aa4MTr54d6ra"
      },
      "execution_count": null,
      "outputs": []
    },
    {
      "cell_type": "code",
      "source": [
        "#3-Faça um programa que leia 4 notas, mostre as notas e a média na tela.\n",
        "lista7 = list()\n",
        "cont3 = 1\n",
        "while (cont3 <= 4):\n",
        "  addnota = float(input('Informe, por favor, a nota: '))\n",
        "  lista7.append(addnota)\n",
        "  cont3 = cont3 + 1\n",
        "print (f'A média das notas é {sum(lista7) / len(lista7)}')"
      ],
      "metadata": {
        "id": "63oSA7Swe_yg"
      },
      "execution_count": null,
      "outputs": []
    },
    {
      "cell_type": "code",
      "source": [
        "#4-Faça um programa que leia um vetor de 10 caracteres, e diga quantas consoantes foram lidas. Imprima as consoantes\n",
        "lista8 = list()\n",
        "vogais = ['a', 'e', 'i', 'o', 'u']\n",
        "cont4 = 1\n",
        "while (cont4 <= 10):\n",
        "  addletra = (input('Informe, por favor, a letra: '))\n",
        "  lista8.append(addletra)\n",
        "  cont4 = cont4 + 1\n",
        "newlist = set(lista8) - set(vogais) #RETIRAR OS ELEMENTOS IGUAIS DE DUAS LISTAS\n",
        "print (f' Foram lidas {len(newlist)} consoantes')\n",
        "print (f'As consoantes informadas são as seguintes: {newlist}')"
      ],
      "metadata": {
        "id": "LqfB2dJahPFb"
      },
      "execution_count": null,
      "outputs": []
    },
    {
      "cell_type": "code",
      "source": [
        "#5-Faça um programa que leia 20 números inteiros e armazene-os num vetor. Armazene os números pares no vetor PAR e os números IMPARES no vetor impar. Imprima os três vetores.\n",
        "lista9 = []\n",
        "listapar = []\n",
        "listaimpar = []\n",
        "cont5 = 1\n",
        "while (cont5 <= 20):\n",
        "  addn = int(input('Informe o número: '))\n",
        "  lista9.append(addn)\n",
        "  cont5 = cont5 + 1\n",
        "for i in lista9: #PARA CADA ELEMENTO DA LISTA\n",
        "  if (i % 2 == 0): #SE O REFERIDO ELEMENTO FOR PAR\n",
        "    listapar.append(i) #ADD O ELEMENTO NA LISTA PARA OS PARES\n",
        "  elif (i % 2 != 0): #SE O REFERIDO ELEMENTO FOR ÍMPAR\n",
        "    listaimpar.append(i) #ADD O ELEMENTO NA LISTA PARA OS ÍMPARES\n",
        "print ('Números informados: ', lista9)\n",
        "print ('Números pares.....: ', listapar)\n",
        "print ('Números ímpares...: ', listaimpar)"
      ],
      "metadata": {
        "id": "7eQ5RduKmrvI"
      },
      "execution_count": null,
      "outputs": []
    },
    {
      "cell_type": "code",
      "source": [
        "#6-Faça um Programa que peça as quatro notas de 5 alunos, calcule e armazene num vetor a média de cada aluno, imprima o número de alunos com média maior ou igual a 7.0\n",
        "notaaluno1 = []\n",
        "notaaluno2 = []\n",
        "notaaluno3 = []\n",
        "notaaluno4 = []\n",
        "notaaluno5 = []\n",
        "notas = 1 \n",
        "while (notas <= 20):\n",
        "  if (notas <= 4):\n",
        "    infonota = float(input('Por favor, aluno 1, informe a nota: '))\n",
        "    notaaluno1.append(infonota)\n",
        "    notas = notas + 1\n",
        "  elif (notas > 4 and notas <= 8):\n",
        "    infonota1 = float(input('Por favor, aluno 2, informe a nota: '))\n",
        "    notaaluno2.append(infonota1)\n",
        "    notas = notas + 1\n",
        "  elif (notas > 8 and notas <= 12):\n",
        "    infonota1 = float(input('Por favor, aluno 3, informe a nota: '))\n",
        "    notaaluno3.append(infonota1)\n",
        "    notas = notas + 1\n",
        "  elif (notas > 12 and notas <= 16):\n",
        "    infonota1 = float(input('Por favor, aluno 4, informe a nota: '))\n",
        "    notaaluno4.append(infonota1)\n",
        "    notas = notas + 1\n",
        "  elif (notas > 16 and notas <= 20):\n",
        "    infonota1 = float(input('Por favor, aluno 5, informe a nota: '))\n",
        "    notaaluno5.append(infonota1)\n",
        "    notas = notas + 1\n",
        "  elif (notas > 20):\n",
        "    break\n",
        "media1 = (sum(notaaluno1) / len(notaaluno1))\n",
        "if (media1 >= 7):\n",
        "  print (f'Aluno 1: Média = {media1}, APROVADO')\n",
        "else:\n",
        "  print ('Reprovado, aluno 1')\n",
        "media2 = (sum(notaaluno2) / len(notaaluno2))\n",
        "if (media2 >= 7):\n",
        "  print (f'Aluno 2: Média = {media2}, APROVADO')\n",
        "else:\n",
        "  print ('Reprovado, aluno 2')\n",
        "media3 = (sum(notaaluno3) / len(notaaluno3))\n",
        "if (media3 >= 7):\n",
        "  print (f'Aluno 3: Média = {media3}, APROVADO')\n",
        "else:\n",
        "  print ('Reprovado, aluno 3')\n",
        "media4 = (sum(notaaluno4) / len(notaaluno4))\n",
        "if (media4 >= 7):\n",
        "  print (f'Aluno 4: Média = {media4}, APROVADO')\n",
        "else:\n",
        "  print ('Reprovado, aluno 4')\n",
        "media5 = (sum(notaaluno5) / len(notaaluno5))\n",
        "if (media5 >= 7):\n",
        "  print (f'Aluno 5: Média = {media5}, APROVADO')\n",
        "else:\n",
        "  print ('Reprovado, aluno 5')"
      ],
      "metadata": {
        "id": "0eNonPPKpDUj"
      },
      "execution_count": null,
      "outputs": []
    },
    {
      "cell_type": "code",
      "source": [
        ""
      ],
      "metadata": {
        "id": "-rhx2JeA7cuY"
      },
      "execution_count": null,
      "outputs": []
    }
  ]
}